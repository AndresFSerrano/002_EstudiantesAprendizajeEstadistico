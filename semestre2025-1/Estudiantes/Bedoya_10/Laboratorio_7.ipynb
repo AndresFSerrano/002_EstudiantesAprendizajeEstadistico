{
  "nbformat": 4,
  "nbformat_minor": 0,
  "metadata": {
    "colab": {
      "provenance": []
    },
    "kernelspec": {
      "name": "python3",
      "display_name": "Python 3"
    },
    "language_info": {
      "name": "python"
    }
  },
  "cells": [
    {
      "cell_type": "code",
      "execution_count": 4,
      "metadata": {
        "id": "0TAbC_0bodgn"
      },
      "outputs": [],
      "source": [
        "import pandas as pd\n",
        "import scipy as sc\n",
        "import numpy as np\n",
        "import h5py\n",
        "import matplotlib.pylab as plt"
      ]
    },
    {
      "cell_type": "code",
      "source": [
        "#from google.colab import drive\n",
        "#drive.mount('/content/gdrive')"
      ],
      "metadata": {
        "id": "siEE_EvdBrOS"
      },
      "execution_count": 5,
      "outputs": []
    },
    {
      "cell_type": "markdown",
      "source": [
        "# Exploracion de la data"
      ],
      "metadata": {
        "id": "EYvwIA14t92f"
      }
    },
    {
      "cell_type": "code",
      "source": [
        "data_train= \"/content/train_catvnoncat.h5\"\n",
        "train_dataset = h5py.File(data_train, \"r\")\n",
        "\n",
        "data_test= \"/content/test_catvnoncat.h5\"\n",
        "test_dataset = h5py.File(data_test, \"r\")\n"
      ],
      "metadata": {
        "id": "EEMVb9sHrYKW"
      },
      "execution_count": 6,
      "outputs": []
    },
    {
      "cell_type": "code",
      "source": [
        "from google.colab import drive\n",
        "drive.mount('/content/drive')"
      ],
      "metadata": {
        "colab": {
          "base_uri": "https://localhost:8080/"
        },
        "id": "rrM9woo-Hshy",
        "outputId": "855d7112-691c-4f7f-852b-669838f3f656"
      },
      "execution_count": 8,
      "outputs": [
        {
          "output_type": "stream",
          "name": "stdout",
          "text": [
            "Mounted at /content/drive\n"
          ]
        }
      ]
    },
    {
      "cell_type": "code",
      "source": [
        "train_dataset.keys()"
      ],
      "metadata": {
        "id": "Rs7eVC-iroaA",
        "colab": {
          "base_uri": "https://localhost:8080/"
        },
        "outputId": "44579c5c-2d30-4b94-e7f6-9078e6d91d59"
      },
      "execution_count": 10,
      "outputs": [
        {
          "output_type": "execute_result",
          "data": {
            "text/plain": [
              "<KeysViewHDF5 ['list_classes', 'train_set_x', 'train_set_y']>"
            ]
          },
          "metadata": {},
          "execution_count": 10
        }
      ]
    },
    {
      "cell_type": "code",
      "source": [
        "# Read the data\n",
        "xtrain_classes, xtrain, train_label =\\\n",
        "train_dataset[\"list_classes\"],train_dataset[\"train_set_x\"],train_dataset[\"train_set_y\"]\n",
        "\n",
        "test_classes, xtest,test_label =\\\n",
        "test_dataset[\"list_classes\"],test_dataset[\"test_set_x\"],test_dataset[\"test_set_y\"]\n"
      ],
      "metadata": {
        "id": "Ibz-RFPgtCtH"
      },
      "execution_count": 11,
      "outputs": []
    },
    {
      "cell_type": "code",
      "source": [
        "plt.imshow(xtrain[0])"
      ],
      "metadata": {
        "id": "-DVpYKzMteLc",
        "colab": {
          "base_uri": "https://localhost:8080/",
          "height": 450
        },
        "outputId": "d22a6d05-2552-42da-b1fc-8448079c6d9a"
      },
      "execution_count": 12,
      "outputs": [
        {
          "output_type": "execute_result",
          "data": {
            "text/plain": [
              "<matplotlib.image.AxesImage at 0x7db113f29990>"
            ]
          },
          "metadata": {},
          "execution_count": 12
        },
        {
          "output_type": "display_data",
          "data": {
            "text/plain": [
              "<Figure size 640x480 with 1 Axes>"
            ],
            "image/png": "[encoded data removed]"
          },
          "metadata": {}
        }
      ]
    },
    {
      "cell_type": "code",
      "source": [
        "xtrain_= np.reshape(xtrain,(209, 64*64*3))/255\n",
        "xtest_ = np.reshape(xtest,(50, 64*64*3))/255"
      ],
      "metadata": {
        "id": "VU244I4OtkE7"
      },
      "execution_count": 13,
      "outputs": []
    },
    {
      "cell_type": "code",
      "source": [
        "np.shape(xtrain_)"
      ],
      "metadata": {
        "id": "ptgWBKM2xyFd",
        "colab": {
          "base_uri": "https://localhost:8080/"
        },
        "outputId": "ae969d38-edb1-4b73-bac1-04fb83cb8320"
      },
      "execution_count": 14,
      "outputs": [
        {
          "output_type": "execute_result",
          "data": {
            "text/plain": [
              "(209, 12288)"
            ]
          },
          "metadata": {},
          "execution_count": 14
        }
      ]
    },
    {
      "cell_type": "markdown",
      "source": [
        "Construyamos una red neuronal con una capa de entrada, una capa de salida con una red y L-1 redes ocultas.\n",
        "\n",
        "# Con m datos de entrenamientos.\n",
        "\n",
        "Para $m$ datos de entrenamiento, las expresión anteriores pueden ser resumidas en las siguientes ecuaciones\n",
        "\n",
        "\n",
        "\n",
        "\\begin{equation}\n",
        "\\begin{bmatrix}\n",
        "z_1^{(0)}  &z_1^{(1)} & .&.& .&z_1^{(m)}\\\\\n",
        "z_2^{(0)}  &z_2^{(1)} &. &.&  .&z_2^{(m)}\\\\\n",
        ".          & .        &. & &   &.      \\\\\n",
        ".          & .        &  &. &   &.      \\\\\n",
        ".          & .        &  &  & .&      \\\\\n",
        "z_{n^{[l]}}^{(0)}&z_{n^{[l]}}^{(1)} & . & .& .& z_{n^{[l]}}^{(m)}        \\\\\n",
        "\\end{bmatrix}^{[l]}=\n",
        "\\begin{bmatrix}\n",
        "\\theta_{11} & \\theta_{12} & . & .& .& \\theta_{1n^{[l-1]}}\\\\\n",
        "\\theta_{21} & \\theta_{22} & . & .& .& \\theta_{2n^{[l-1]}}\\\\\n",
        ". & .  & . &   & & .\\\\\n",
        ". & .  &   & . & & .\\\\\n",
        ". & .  &   &  & .& .\\\\\n",
        "\\theta_{n^{[l]}1} & \\theta_{n^{[l]}2} & . & .& .& \\theta_{n^{[l]}n^{[l-1]}}\\\\\n",
        "\\end{bmatrix}^{[l]}_{n^{[l]} \\times n^{[l-1]}}\n",
        "\\begin{bmatrix}\n",
        "a_1^{(0)}  &a_1^{(1)} & .&.& .&a_1^{(m)}\\\\\n",
        "a_2^{(0)}  &a_2^{(1)} &. &.&  .&a_2^{(m)}\\\\\n",
        ".          & .        &. & &   &.      \\\\\n",
        ".          & .        &  &. &   &.      \\\\\n",
        ".          & .        &  &  & .&      \\\\\n",
        "a_{n^{[L-1]}}^{(0)}&a_{n^{[L-1]}}^{(1)} & . & .& .& a_{n^{[L-1]}}^{(m)}        \\\\\n",
        "\\end{bmatrix}^{[l-1]} +\n",
        "\\begin{bmatrix}\n",
        "b_1 \\\\\n",
        "b_2 \\\\\n",
        ". \\\\\n",
        ". \\\\\n",
        ". \\\\\n",
        "b_{n^{[l]}}\\\\\n",
        "\\end{bmatrix}^{[l]}\n",
        "\\end{equation}\n",
        "\n",
        "\n",
        "Escrito de una formas mas compacta tenemos que:\n",
        "\n",
        "\n",
        "\\begin{equation}\n",
        "[ \\vec{Z}^{[l](0)},\\vec{Z}^{[l](1)},...,\\vec{Z}^{[l](m)}  ]= \\Theta^{[l]} [\\vec{A}^{[l-1](0)},\\vec{A}^{[l-1](1)},...,\\vec{A}^{[l-1](m)} ]+ \\vec{b}^{[l]}\n",
        "\\end{equation}\n",
        "\n",
        "Aplicando la funcion de activación:\n",
        "\n",
        "\\begin{equation}\n",
        "[\\vec{A}^{[l](0)},\\vec{A}^{[l](1)},...,\\vec{A}^{[l](m)} ]=f([\\vec{Z}^{[l](0)},\\vec{Z}^{[l](1)},...,\\vec{Z}^{[l](m)}  ])\n",
        "\\end{equation}\n",
        "\n",
        "Las dimensiones de las expresiones anteriores, pueden ser resumidas en lo siguiente:\n",
        "\n",
        "$\\mathrm{dim(\\vec{\\cal{Z}}^{[l]})}=n^{[l]}\\times m $\n",
        "\n",
        "$\\mathrm{dim(\\vec{\\Theta}^{[l]})}=n^{[l]}\\times n^{[l-1]}$\n",
        "\n",
        "$\\mathrm{dim(\\vec{\\cal{A}}^{[l]})}=n^{[l-1]}\\times m $\n",
        "\n",
        "$\\mathrm{dim(\\vec{b}^{[l]})}=n^{[l]}$\n",
        "\n",
        "\n",
        "\n",
        "# Topologia de la red\n",
        "\n",
        "Topology = [n_x, n_h1, n_h2, n_h3, ...,n_y]\n"
      ],
      "metadata": {
        "id": "-R5YjrRMwVxU"
      }
    },
    {
      "cell_type": "code",
      "source": [
        "n_x = 12288# -- size of the input layer\n",
        "#n_h = # -- size of the hidden layer\n",
        "n_y = 1# -- size of the output layer\n",
        "\n",
        "class layer_nn():\n",
        "  def __init__(self,act_fun, n_layer_present, n_layer_before ):\n",
        "    self.W = 2*np.random.random((n_layer_before,n_layer_present)) - 1\n",
        "    self.B = 2*np.random.random((n_layer_present,1)) - 1\n",
        "    self.act_fun = act_fun\n",
        "\n",
        "  def output(self, Z,A, Ap):\n",
        "    self.Z = Z\n",
        "    self.A = A\n",
        "    self.Ap = Ap\n",
        "\n",
        "  def derivates(self, dW, db):\n",
        "    self.dW = dW\n",
        "    self.db = db\n",
        "\n",
        "\n",
        "@np.vectorize\n",
        "def relu(x):\n",
        "  if(x>=0):\n",
        "    return x\n",
        "  else :\n",
        "    return 0\n",
        "\n",
        "@np.vectorize\n",
        "def reluP(x):\n",
        "  if(x>=0):\n",
        "    return 1\n",
        "  else :\n",
        "    return 0\n",
        "\n",
        "def sigmoide(x):\n",
        "  f= lambda x: 1/(1+np.exp(-x))\n",
        "  return f(x)\n",
        "\n",
        "def act_function(x, activation):\n",
        "    if activation == \"sigmoid\":\n",
        "        f = sigmoide(x)\n",
        "        fp = sigmoide(x)*(1-sigmoide(x))\n",
        "    elif activation == \"tanh\":\n",
        "        f = lambda x: np.tanh(x)\n",
        "\n",
        "    elif activation == \"relu\":\n",
        "        f = relu(x)\n",
        "        fp = reluP(x)\n",
        "\n",
        "    return f, fp\n"
      ],
      "metadata": {
        "id": "hmjU03XJvjYD"
      },
      "execution_count": 15,
      "outputs": []
    },
    {
      "cell_type": "code",
      "source": [
        "layer = layer_nn(\"hola, \",1,1)\n",
        "layer.W"
      ],
      "metadata": {
        "id": "3_2B5If_zHVi",
        "colab": {
          "base_uri": "https://localhost:8080/"
        },
        "outputId": "151bb55d-0c86-4e2c-c343-f1abc0ddbf0b"
      },
      "execution_count": 16,
      "outputs": [
        {
          "output_type": "execute_result",
          "data": {
            "text/plain": [
              "array([[-0.39760484]])"
            ]
          },
          "metadata": {},
          "execution_count": 16
        }
      ]
    },
    {
      "cell_type": "code",
      "source": [
        "\n",
        "#l1 =  layer_nn(\"sigmoid\", 3, n_x )\n",
        "#l2 =  layer_nn(\"sigmoid\", 4, 3 )\n",
        "#l3 =  layer_nn(\"sigmoid\", 6, 4 )\n",
        "#l4 =  layer_nn(\"sigmoid\", 1, 6 )\n",
        "#nn_red = [l1,l2,l3,l4]\n",
        "\n",
        "def red_neuronal(topology, act_fn):\n",
        "  nn_red = []\n",
        "  L = len(topology)\n",
        "  for i in range(1, L):\n",
        "    nn_red.append(layer_nn(act_fn[i],topology[i],topology[i-1] ) )\n",
        "  return nn_red\n"
      ],
      "metadata": {
        "id": "pQlarmNZy6YH"
      },
      "execution_count": 17,
      "outputs": []
    },
    {
      "cell_type": "code",
      "source": [
        "topology = [n_x, 3, 4, 6 ,1]\n",
        "act_fn   = [None,\"relu\", \"relu\", \"relu\", \"sigmoid\" ]\n",
        "\n",
        "nn_red = red_neuronal(topology, act_fn)"
      ],
      "metadata": {
        "id": "fuZsoWkIWC9i"
      },
      "execution_count": 18,
      "outputs": []
    },
    {
      "cell_type": "code",
      "source": [
        "l1,l2,l3,l4 = nn_red.copy()"
      ],
      "metadata": {
        "id": "K7fZzWy9drNx"
      },
      "execution_count": 19,
      "outputs": []
    },
    {
      "cell_type": "code",
      "source": [
        "# Forward pass y check dimensiones"
      ],
      "metadata": {
        "id": "Wn5h2W3V1FOm"
      },
      "execution_count": 20,
      "outputs": []
    },
    {
      "cell_type": "code",
      "source": [
        "A0 = xtrain_.T\n",
        "Y = np.array(train_label)"
      ],
      "metadata": {
        "id": "Mjaa4ICz3oOr"
      },
      "execution_count": 21,
      "outputs": []
    },
    {
      "cell_type": "code",
      "source": [
        "# Para la capa 1\n",
        "Z1 = l1.W.T @ A0 + l1.B\n",
        "A1, A1p = act_function(Z1, l1.act_fun)\n",
        "\n",
        "# Para la capa 2\n",
        "Z2 = l2.W.T @ A1 +l2.B\n",
        "A2, A2p = act_function(Z2, l2.act_fun)\n",
        "\n",
        "# Para la capa 3\n",
        "Z3 = l3.W.T @ A2 + l3.B\n",
        "A3, A3p = act_function(Z3, l3.act_fun)\n",
        "\n",
        "# Para la capa 4\n",
        "Z4 = l4.W.T @ A3 + l4.B\n",
        "A4, A4p = act_function(Z4, l4.act_fun)"
      ],
      "metadata": {
        "id": "CY1H1k0U1Fu_"
      },
      "execution_count": 22,
      "outputs": []
    },
    {
      "cell_type": "code",
      "source": [
        "for layer in nn_red:\n",
        "  print(layer.act_fun)"
      ],
      "metadata": {
        "id": "Uf3NQykycxH2",
        "colab": {
          "base_uri": "https://localhost:8080/"
        },
        "outputId": "e8773da9-e5f7-47b1-9a89-c1da8c36e887"
      },
      "execution_count": 23,
      "outputs": [
        {
          "output_type": "stream",
          "name": "stdout",
          "text": [
            "relu\n",
            "relu\n",
            "relu\n",
            "sigmoid\n"
          ]
        }
      ]
    },
    {
      "cell_type": "code",
      "source": [
        "def forward_pass(input, nn_red):\n",
        "  A0 = input\n",
        "  nn_red_update = []\n",
        "\n",
        "  for layer in nn_red:\n",
        "    Z = layer.W.T@A0 + layer.B\n",
        "    A, Ap = act_function(Z, layer.act_fun)\n",
        "    layer.output(Z, A, Ap)\n",
        "    nn_red_update.append(layer)\n",
        "    A0 = A.copy()\n",
        "  return A, nn_red_update\n"
      ],
      "metadata": {
        "id": "D8Zp1fuNYbmq"
      },
      "execution_count": 24,
      "outputs": []
    },
    {
      "cell_type": "code",
      "source": [
        "A0 = xtrain_.T\n",
        "A, nn = forward_pass(A0, nn_red)"
      ],
      "metadata": {
        "id": "vSuhOLKK9TJ1"
      },
      "execution_count": 25,
      "outputs": []
    },
    {
      "cell_type": "code",
      "source": [
        "nn"
      ],
      "metadata": {
        "id": "LY23P_u75_L9",
        "colab": {
          "base_uri": "https://localhost:8080/"
        },
        "outputId": "947ab549-7503-4f82-9327-af70785f0013"
      },
      "execution_count": 26,
      "outputs": [
        {
          "output_type": "execute_result",
          "data": {
            "text/plain": [
              "[<__main__.layer_nn at 0x7db14426a110>,\n",
              " <__main__.layer_nn at 0x7db113ee2210>,\n",
              " <__main__.layer_nn at 0x7db111dcdd50>,\n",
              " <__main__.layer_nn at 0x7db111b52110>]"
            ]
          },
          "metadata": {},
          "execution_count": 26
        }
      ]
    },
    {
      "cell_type": "markdown",
      "source": [
        "# Determinación de la Función de coste\n",
        "\n",
        "$$-\\frac{1}{m} \\sum\\limits_{i = 1}^{m} (y^{(i)}\\log\\left(a^{[L] (i)}\\right) + (1-y^{(i)})\\log\\left(1- a^{[L](i)}\\right)) \\tag{7}$$\n"
      ],
      "metadata": {
        "id": "dhc7K2-EEKRI"
      }
    },
    {
      "cell_type": "code",
      "source": [
        "def cost_Function(A, Y):\n",
        "  m = Y.shape[0]\n",
        "  m_ = 1/m\n",
        "  cost = Y*np.log(A)+(1-Y)*np.log(1-A)\n",
        "  cost = -m_*cost.sum()\n",
        "  return cost"
      ],
      "metadata": {
        "id": "mPU8X3nOeYgA"
      },
      "execution_count": 27,
      "outputs": []
    },
    {
      "cell_type": "code",
      "source": [
        "J = cost_Function(A, Y)\n",
        "print(J)"
      ],
      "metadata": {
        "id": "XChoC8Fqeic3",
        "colab": {
          "base_uri": "https://localhost:8080/"
        },
        "outputId": "0ceff3b5-1079-4911-deb5-b2d64476882c"
      },
      "execution_count": 28,
      "outputs": [
        {
          "output_type": "stream",
          "name": "stdout",
          "text": [
            "2.4004033135098646\n"
          ]
        }
      ]
    },
    {
      "cell_type": "code",
      "source": [
        "J = cost_Function(A4, Y)\n",
        "print(J)"
      ],
      "metadata": {
        "id": "0X-fh9SGkLKN",
        "colab": {
          "base_uri": "https://localhost:8080/"
        },
        "outputId": "4e5ca26e-62ac-4165-b499-0aa7796dbfd5"
      },
      "execution_count": 29,
      "outputs": [
        {
          "output_type": "stream",
          "name": "stdout",
          "text": [
            "2.4004033135098646\n"
          ]
        }
      ]
    },
    {
      "cell_type": "markdown",
      "source": [
        "# Backward Propagation\n",
        "\n",
        "Para una capa $l$ arbitraria tenemos que:\n",
        "\n",
        "- \\begin{equation}\n",
        "d\\Theta^{[l]} =  d{\\cal Z}^{(i)[l]} A^{(i)[l-1]} = dA^{(i)[l]} f'({\\cal Z}^{(i)[l]} ) A^{(i)[l-1]}\n",
        "\\end{equation}\n",
        "\n",
        "- \\begin{equation}\n",
        "db^{[l]} =  d{\\cal Z}^{(i)[L]}  = dA^{(i)[l]} f'({\\cal Z}^{(i)[l]} )\n",
        "\\end{equation}\n",
        "\n",
        "\n",
        "Los valores de dA pueden ser escritos como:\n",
        "- \\begin{equation}\n",
        "dA^{(i)[l-1]} = \\Theta^{l} dZ^{(i)[l]}\n",
        "\\end{equation}\n",
        "\n",
        "\n",
        "\n",
        "\n",
        "\n",
        " $dZ^{[l]} = dA^{[l]} * f'^{[l]} (Z^{[l]}) $\n",
        "\n",
        "\n",
        "$ d\\Theta^{[l]} = \\frac{\\partial \\mathcal{J} }{\\partial \\Theta^{[l]}} = \\frac{1}{m} dZ^{[l]} A^{[l-1] T} \\tag{1}$\n",
        "$ db^{[l]} = \\frac{\\partial \\mathcal{J} }{\\partial b^{[l]}} = \\frac{1}{m} \\sum_{i = 1}^{m} dZ^{[l](i)}\\tag{2}$\n",
        "$ dA^{[l-1]} = \\frac{\\partial \\mathcal{L} }{\\partial A^{[l-1]}} = \\theta^{[l] T} . dZ^{[l]} \\tag{3}$\n"
      ],
      "metadata": {
        "id": "cJMRnxWkEWBD"
      }
    },
    {
      "cell_type": "code",
      "source": [
        "#def backward_propagation(AL,Y, nn):\n",
        "# Capa L-esima\n",
        "dAL = -(np.divide(Y, A) - np.divide(1 - Y, 1 - A))\n",
        "fp = nn[3].Ap\n",
        "dZ = dAL*fp\n",
        "m_ = 1/209\n",
        "\n",
        "dW_L = m_*dZ@nn[2].Ap.T\n",
        "db_L =  m_*np.sum(dZ, axis=1, keepdims=True)\n",
        "\n",
        "nn[3].dW=dW_L\n",
        "nn[3].db=db_L\n"
      ],
      "metadata": {
        "id": "Ue7BEqsSD7g0"
      },
      "execution_count": 30,
      "outputs": []
    },
    {
      "cell_type": "code",
      "source": [
        "np.shape(nn[3].W.T)\n",
        "np.shape(dZ)"
      ],
      "metadata": {
        "id": "KQQ3e4890ZID",
        "colab": {
          "base_uri": "https://localhost:8080/"
        },
        "outputId": "f0de9e3e-4d76-4015-9603-6d22d185da92"
      },
      "execution_count": 31,
      "outputs": [
        {
          "output_type": "execute_result",
          "data": {
            "text/plain": [
              "(1, 209)"
            ]
          },
          "metadata": {},
          "execution_count": 31
        }
      ]
    },
    {
      "cell_type": "code",
      "source": [
        "# Capa L-1\n",
        "dAL_1 = np.dot(nn[3].W, dZ)\n",
        "#dAL_1 = dAL\n",
        "fp = nn[2].Ap\n",
        "dZ_1 = dAL_1*fp\n",
        "dW_L1 = m_*dZ_1@nn[1].Ap.T\n",
        "db_L1 = dZ_1.mean()\n",
        "\n",
        "nn[2].dW=dW_L1\n",
        "nn[2].db=db_L1"
      ],
      "metadata": {
        "id": "lNMkhfEUGWyE"
      },
      "execution_count": 32,
      "outputs": []
    },
    {
      "cell_type": "code",
      "source": [
        "# Capa L-2\n",
        "dAL_2 =  np.dot(nn[2].W, dZ_1)\n",
        "\n",
        "fp = nn[1].Ap\n",
        "dZ_2 = dAL_2*fp\n",
        "dW_L2 = m_*dZ_2@nn[0].Ap.T\n",
        "db_L2 = dZ_2.mean()\n",
        "\n",
        "nn[1].dW=dW_L2\n",
        "nn[1].db=db_L2"
      ],
      "metadata": {
        "id": "N1_D7qwBH1w4"
      },
      "execution_count": 33,
      "outputs": []
    },
    {
      "cell_type": "code",
      "source": [
        "a=nn[1].dW.copy()"
      ],
      "metadata": {
        "id": "8LmtAKE2rw_6"
      },
      "execution_count": 34,
      "outputs": []
    },
    {
      "cell_type": "code",
      "source": [
        "def backward_propagation(AL,Y,nn):\n",
        "  L = len(nn) - 1\n",
        "\n",
        "  dAL = -(np.divide(Y, AL) - np.divide(1 - Y, 1 - AL))\n",
        "  fp = nn[L].Ap\n",
        "  dZ = dAL*fp\n",
        "  m_ = 1/np.shape(Y)[0]\n",
        "\n",
        "  dW_L = m_*dZ@nn[L-1].Ap.T\n",
        "  db_L = m_*np.sum(dZ, axis=1, keepdims=True)\n",
        "  nn[L].dW=dW_L\n",
        "  nn[L].db=db_L\n",
        "  dAL_1 = np.dot(nn[L].W, dZ)\n",
        "\n",
        "  for l in reversed(range(1,L)):\n",
        "    fp = nn[l].Ap\n",
        "    dZ_1 = dAL_1*fp\n",
        "    dW_L1 = m_*dZ_1@nn[l-1].Ap.T\n",
        "    db_L1 = m_*np.sum(dZ_1, axis=1, keepdims=True)\n",
        "\n",
        "   # dAL = dAL_1.copy()\n",
        "    nn[l].dW=dW_L1\n",
        "    nn[l].db=db_L1\n",
        "    dAL_1 = np.dot(nn[l].W, dZ_1)\n",
        "\n",
        "  return nn\n",
        "\n",
        "def update_params(nn, learning_rate):\n",
        "  L = len(nn)\n",
        "  for l in range(1, L):\n",
        "    nn[l].W = nn[l].W - learning_rate*nn[l].dW.T\n",
        "    nn[l].B = nn[l].B - learning_rate*nn[l].db\n",
        "  return nn\n"
      ],
      "metadata": {
        "id": "zvFGJodck98m"
      },
      "execution_count": 35,
      "outputs": []
    },
    {
      "cell_type": "code",
      "source": [
        "nn=backward_propagation(A,Y,nn)\n"
      ],
      "metadata": {
        "id": "xhasPuSTmJT1"
      },
      "execution_count": 36,
      "outputs": []
    },
    {
      "cell_type": "code",
      "source": [
        "a==nn[1].dW"
      ],
      "metadata": {
        "id": "cU4RRDsur5LQ",
        "colab": {
          "base_uri": "https://localhost:8080/"
        },
        "outputId": "6939565b-a7d4-4645-e14f-91e10655b7f2"
      },
      "execution_count": 37,
      "outputs": [
        {
          "output_type": "execute_result",
          "data": {
            "text/plain": [
              "array([[ True,  True,  True],\n",
              "       [ True,  True,  True],\n",
              "       [ True,  True,  True],\n",
              "       [ True,  True,  True]])"
            ]
          },
          "metadata": {},
          "execution_count": 37
        }
      ]
    },
    {
      "cell_type": "code",
      "source": [
        "nn=update_params(nn, 0.02)"
      ],
      "metadata": {
        "id": "WoRd9cnsn7QM"
      },
      "execution_count": 38,
      "outputs": []
    },
    {
      "cell_type": "code",
      "source": [
        "nn[3].dW"
      ],
      "metadata": {
        "id": "4QUAEJeosRjw",
        "colab": {
          "base_uri": "https://localhost:8080/"
        },
        "outputId": "320b4f7c-0d6f-4eab-8c0d-c7645d9b6b2e"
      },
      "execution_count": 39,
      "outputs": [
        {
          "output_type": "execute_result",
          "data": {
            "text/plain": [
              "array([[0.34622846, 0.50528394, 0.00422708, 0.00940753, 0.50621206,\n",
              "        0.00587656]])"
            ]
          },
          "metadata": {},
          "execution_count": 39
        }
      ]
    },
    {
      "cell_type": "code",
      "source": [
        "A, nn = forward_pass(A0, nn)"
      ],
      "metadata": {
        "id": "geHf5hldmbcY"
      },
      "execution_count": 40,
      "outputs": []
    },
    {
      "cell_type": "markdown",
      "source": [
        "# Aplicacion gradiente descendente\n",
        "\n",
        "$$ W^{[l]} = W^{[l]} - \\alpha \\text{ } dW^{[l]} \\tag{16}$$\n",
        "$$ b^{[l]} = b^{[l]} - \\alpha \\text{ } db^{[l]} \\tag{17}$$\n"
      ],
      "metadata": {
        "id": "rXj9ENzqYeDk"
      }
    },
    {
      "cell_type": "code",
      "source": [
        "def update_params(nn, learning_rate):\n",
        "  L=len(nn)\n",
        "  for l in range(1, L):\n",
        "\n",
        "    nn[l].W = nn[l].W - learning_rate*nn[l].dW.T\n",
        "    nn[l].B = nn[l].B - learning_rate*nn[l].db\n",
        "  return nn"
      ],
      "metadata": {
        "id": "AcKiR4w4YlSe"
      },
      "execution_count": 41,
      "outputs": []
    },
    {
      "cell_type": "code",
      "source": [
        "learning_rate=0.1\n",
        "nn = backward_propagation(A, Y,nn)\n",
        "nn = update_params(nn, learning_rate)\n",
        "A, nn = forward_pass(A0, nn)\n",
        "J = cost_Function(A, np.array(train_label))\n"
      ],
      "metadata": {
        "id": "L0FI7KdnRMKC"
      },
      "execution_count": 42,
      "outputs": []
    },
    {
      "cell_type": "markdown",
      "source": [
        "# Algoritmo General\n",
        "\n",
        "=============================================="
      ],
      "metadata": {
        "id": "QBr_3MjUS4NL"
      }
    },
    {
      "cell_type": "code",
      "source": [
        "n_x = 12288# -- size of the input layer\n",
        "#n_h = # -- size of the hidden layer\n",
        "n_y = 1# -- size of the output layer\n",
        "\n",
        "\n",
        "class layer_nn():\n",
        "  def __init__(self,act_fun, n_layer_present, n_layer_before ):\n",
        "    self.W = 2*np.random.random((n_layer_before,n_layer_present)) - 1\n",
        "    self.B = 2*np.random.random((n_layer_present,1)) - 1\n",
        "    self.act_fun = act_fun\n",
        "\n",
        "  def output(self, Z,A, Ap):\n",
        "    self.Z = Z\n",
        "    self.A = A\n",
        "    self.Ap = Ap\n",
        "\n",
        "  def derivates(self, dW, db):\n",
        "    self.dW = dW\n",
        "    self.db = db\n",
        "\n",
        "@np.vectorize\n",
        "def relu(x):\n",
        "  if(x>=0):\n",
        "    return x\n",
        "  else :\n",
        "    return 0\n",
        "\n",
        "@np.vectorize\n",
        "def reluP(x):\n",
        "  if(x>=0):\n",
        "    return 1\n",
        "  else :\n",
        "    return 0\n",
        "\n",
        "def sigmoide(x):\n",
        "  f= lambda x: 1/(1+np.exp(-x))\n",
        "  return f(x)\n",
        "\n",
        "def act_function(x, activation):\n",
        "    if activation == \"sigmoid\":\n",
        "        f = sigmoide(x)\n",
        "        fp = sigmoide(x)*(1-sigmoide(x))\n",
        "    elif activation == \"tanh\":\n",
        "        f = lambda x: np.tanh(x)\n",
        "\n",
        "    elif activation == \"relu\":\n",
        "        f = relu(x)\n",
        "        fp = reluP(x)\n",
        "\n",
        "    return f, fp\n",
        "\n",
        "\n",
        "def forward_pass(input, nn_red):\n",
        "  A0 = input\n",
        "  nn_red_update = []\n",
        "\n",
        "  for layer in nn_red:\n",
        "    Z = layer.W.T@A0 + layer.B\n",
        "    A, Ap = act_function(Z, layer.act_fun)\n",
        "    layer.output(Z, A, Ap)\n",
        "    nn_red_update.append(layer)\n",
        "    A0 = A\n",
        "  return A, nn_red_update\n",
        "\n",
        "\n",
        "def cost_Function(A, Y):\n",
        "  m = Y.shape[0]\n",
        "  m_ = 1/m\n",
        "  cost = Y*np.log(A)+(1-Y)*np.log(1-A)\n",
        "  cost = -m_*cost.sum()\n",
        "  return cost\n",
        "\n",
        "\n",
        "def backward_propagation(AL,Y,nn):\n",
        "  L = len(nn) - 1\n",
        "\n",
        "  dAL = -(np.divide(Y, AL) - np.divide(1 - Y, 1 - AL))\n",
        "  fp = nn[L].Ap\n",
        "  dZ = dAL*fp\n",
        "  m_ = 1/np.shape(Y)[0]\n",
        "\n",
        "  dW_L = m_*dZ@nn[L-1].Ap.T\n",
        "  db_L = m_*np.sum(dZ, axis=1, keepdims=True)\n",
        "\n",
        "  nn[L].dW=dW_L\n",
        "  nn[L].db=db_L\n",
        "\n",
        "  for l in reversed(range(1,L)):\n",
        "    dAL_1 = dAL\n",
        "    fp = nn[l].Ap\n",
        "    dZ_1 = dAL_1*fp\n",
        "    dW_L1 = m_*dZ_1@nn[l-1].Ap.T\n",
        "    db_L1 = m_*np.sum(dZ_1, axis=1, keepdims=True)\n",
        "\n",
        "    dAL=dAL_1\n",
        "\n",
        "    nn[l].dW=dW_L1\n",
        "    nn[l].db=db_L1\n",
        "\n",
        "  return nn\n",
        "\n",
        "def update_params(nn, learning_rate):\n",
        "  L=len(nn)\n",
        "  for l in range(1, L):\n",
        "    nn[l].W = nn[l].W - learning_rate*nn[l].dW.T\n",
        "    nn[l].B = nn[l].B - learning_rate*nn[l].db\n",
        "  return nn\n",
        "\n",
        "def red_neuronal(topology, act_fn):\n",
        "  nn_red = []\n",
        "  L = len(topology)\n",
        "  for i in range(1, L):\n",
        "    nn_red.append(layer_nn(act_fn[i],topology[i],topology[i-1] ) )\n",
        "  return nn_red\n"
      ],
      "metadata": {
        "id": "NW3OTbpsVldZ"
      },
      "execution_count": 43,
      "outputs": []
    },
    {
      "cell_type": "code",
      "source": [
        "import pandas as pd\n",
        "import scipy as sc\n",
        "import numpy as np\n",
        "import h5py\n",
        "import matplotlib.pylab as plt"
      ],
      "metadata": {
        "id": "xwlfwsy8hkqT"
      },
      "execution_count": 44,
      "outputs": []
    },
    {
      "cell_type": "code",
      "source": [
        "# Read the data\n",
        "data_train= \"/content/train_catvnoncat.h5\"\n",
        "train_dataset = h5py.File(data_train, \"r\")\n",
        "\n",
        "data_test= \"/content/test_catvnoncat.h5\"\n",
        "test_dataset = h5py.File(data_test, \"r\")\n",
        "\n",
        "xtrain_classes, xtrain, train_label =\\\n",
        "train_dataset[\"list_classes\"],train_dataset[\"train_set_x\"],train_dataset[\"train_set_y\"]\n",
        "\n",
        "test_classes, xtest,test_label =\\\n",
        "test_dataset[\"list_classes\"],test_dataset[\"test_set_x\"],test_dataset[\"test_set_y\"]\n",
        "\n",
        "xtrain_= np.reshape(xtrain,(209, 64*64*3))/255\n",
        "xtest_ = np.reshape(xtest,(50, 64*64*3))/255\n",
        "\n",
        "\n",
        "topology = [n_x, 3, 4, 6 ,1]\n",
        "act_fn   = [None,\"relu\", \"relu\", \"relu\", \"sigmoid\" ]\n",
        "nn_red = red_neuronal(topology, act_fn)\n"
      ],
      "metadata": {
        "id": "EuSs9dFQVtkb"
      },
      "execution_count": 45,
      "outputs": []
    },
    {
      "cell_type": "code",
      "source": [
        "J=1.\n",
        "type(J)"
      ],
      "metadata": {
        "id": "faPBjP8R7Lcy",
        "colab": {
          "base_uri": "https://localhost:8080/"
        },
        "outputId": "faf552a3-6c62-43b9-9ef7-a9cfac9e62ba"
      },
      "execution_count": 46,
      "outputs": [
        {
          "output_type": "execute_result",
          "data": {
            "text/plain": [
              "float"
            ]
          },
          "metadata": {},
          "execution_count": 46
        }
      ]
    },
    {
      "cell_type": "code",
      "source": [
        "import numba"
      ],
      "metadata": {
        "id": "nF2kBTEv7WM4"
      },
      "execution_count": 51,
      "outputs": []
    },
    {
      "cell_type": "code",
      "source": [
        "A0 = xtrain_.T\n",
        "Y = np.array(train_label)\n",
        "\n",
        "A, nn = forward_pass(A0, nn_red)\n",
        "J = cost_Function(A, np.array(train_label))\n",
        "j = []\n",
        "j.append(J)\n",
        "\n",
        "for i in range(1,100):\n",
        "\n",
        "  nn = backward_propagation(A, Y, nn)\n",
        "  nn = update_params(nn, 0.002)\n",
        "  A, nn = forward_pass(A0, nn)\n",
        "\n",
        "  J = cost_Function(A, np.array(train_label))\n",
        "  j.append(J)\n",
        "\n",
        "plt.plot(j)\n"
      ],
      "metadata": {
        "id": "4LfU_9VXSsmN",
        "colab": {
          "base_uri": "https://localhost:8080/",
          "height": 758
        },
        "outputId": "b04662c3-8e86-4e8e-a6f1-558ca4766628"
      },
      "execution_count": 49,
      "outputs": [
        {
          "output_type": "stream",
          "name": "stderr",
          "text": [
            "/tmp/ipython-input-43-3090359542.py:36: RuntimeWarning: overflow encountered in exp\n",
            "  f= lambda x: 1/(1+np.exp(-x))\n",
            "/tmp/ipython-input-43-3090359542.py:69: RuntimeWarning: divide by zero encountered in log\n",
            "  cost = Y*np.log(A)+(1-Y)*np.log(1-A)\n",
            "/tmp/ipython-input-43-3090359542.py:69: RuntimeWarning: invalid value encountered in multiply\n",
            "  cost = Y*np.log(A)+(1-Y)*np.log(1-A)\n",
            "/tmp/ipython-input-43-3090359542.py:77: RuntimeWarning: divide by zero encountered in divide\n",
            "  dAL = -(np.divide(Y, AL) - np.divide(1 - Y, 1 - AL))\n",
            "/tmp/ipython-input-43-3090359542.py:77: RuntimeWarning: invalid value encountered in divide\n",
            "  dAL = -(np.divide(Y, AL) - np.divide(1 - Y, 1 - AL))\n",
            "/tmp/ipython-input-43-3090359542.py:79: RuntimeWarning: invalid value encountered in multiply\n",
            "  dZ = dAL*fp\n",
            "/usr/local/lib/python3.11/dist-packages/numpy/lib/_function_base_impl.py:2480: RuntimeWarning: invalid value encountered in relu (vectorized)\n",
            "  outputs = ufunc(*inputs)\n",
            "/usr/local/lib/python3.11/dist-packages/numpy/lib/_function_base_impl.py:2480: RuntimeWarning: invalid value encountered in reluP (vectorized)\n",
            "  outputs = ufunc(*inputs)\n"
          ]
        },
        {
          "output_type": "execute_result",
          "data": {
            "text/plain": [
              "[<matplotlib.lines.Line2D at 0x7db0fc496cd0>]"
            ]
          },
          "metadata": {},
          "execution_count": 49
        },
        {
          "output_type": "display_data",
          "data": {
            "text/plain": [
              "<Figure size 640x480 with 1 Axes>"
            ],
            "image/png": "[encoded data removed]"
          },
          "metadata": {}
        }
      ]
    },
    {
      "cell_type": "code",
      "source": [
        "A0 = xtest_.T\n",
        "Y = np.array(train_label)\n",
        "A, nn = forward_pass(A0, nn)\n",
        "A"
      ],
      "metadata": {
        "id": "KkyBC8iVa4fA",
        "colab": {
          "base_uri": "https://localhost:8080/"
        },
        "outputId": "8550f62e-8548-4821-9ce6-eab5883f194c"
      },
      "execution_count": 50,
      "outputs": [
        {
          "output_type": "stream",
          "name": "stderr",
          "text": [
            "/usr/local/lib/python3.11/dist-packages/numpy/lib/_function_base_impl.py:2480: RuntimeWarning: invalid value encountered in relu (vectorized)\n",
            "  outputs = ufunc(*inputs)\n",
            "/usr/local/lib/python3.11/dist-packages/numpy/lib/_function_base_impl.py:2480: RuntimeWarning: invalid value encountered in reluP (vectorized)\n",
            "  outputs = ufunc(*inputs)\n"
          ]
        },
        {
          "output_type": "execute_result",
          "data": {
            "text/plain": [
              "array([[nan, nan, nan, nan, nan, nan, nan, nan, nan, nan, nan, nan, nan,\n",
              "        nan, nan, nan, nan, nan, nan, nan, nan, nan, nan, nan, nan, nan,\n",
              "        nan, nan, nan, nan, nan, nan, nan, nan, nan, nan, nan, nan, nan,\n",
              "        nan, nan, nan, nan, nan, nan, nan, nan, nan, nan, nan]])"
            ]
          },
          "metadata": {},
          "execution_count": 50
        }
      ]
    },
    {
      "cell_type": "code",
      "source": [],
      "metadata": {
        "id": "K7nMyZItb5xU"
      },
      "execution_count": null,
      "outputs": []
    }
  ]
}