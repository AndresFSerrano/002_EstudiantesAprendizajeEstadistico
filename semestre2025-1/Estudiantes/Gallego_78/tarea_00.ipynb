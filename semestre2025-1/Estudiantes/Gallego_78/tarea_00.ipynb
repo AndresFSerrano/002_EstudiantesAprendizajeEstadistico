{
 "cells": [
  {
   "cell_type": "markdown",
   "id": "70c2eb43",
   "metadata": {},
   "source": [
    "# Tarea 00\n",
    "\n",
    "Juan Camilo Gallego\n",
    "CC: 1000098978"
   ]
  },
  {
   "cell_type": "code",
   "execution_count": 111,
   "id": "991745f5",
   "metadata": {},
   "outputs": [],
   "source": [
    "import pandas as pd\n",
    "import seaborn as sns\n",
    "import matplotlib.pyplot as plt\n",
    "import numpy as np\n",
    "import scipy.stats as stats\n",
    "\n",
    "\n",
    "# Cargar el dataset\n",
    "df = sns.load_dataset('penguins')"
   ]
  },
  {
   "cell_type": "code",
   "execution_count": 90,
   "id": "78a92924",
   "metadata": {},
   "outputs": [],
   "source": [
    "#Estimador de la correlacion de Pearson\n",
    "def pearson_correlation(X, Y):\n",
    "    \"\"\"\n",
    "    Calcula el coeficiente de correlación de Pearson entre dos listas o arrays de datos X e Y.\n",
    "\n",
    "    Parámetros:\n",
    "    X -- Lista o array de valores de la variable X.\n",
    "    Y -- Lista o array de valores de la variable Y.\n",
    "\n",
    "    Retorna:\n",
    "    r -- Coeficiente de correlación de Pearson.\n",
    "    \"\"\"\n",
    "    n = len(X)\n",
    "    mean_X = np.mean(X)\n",
    "    mean_Y = np.mean(Y)\n",
    "\n",
    "    sum_XY = np.sum(X * Y)\n",
    "    numerador = sum_XY - n * mean_X * mean_Y\n",
    "\n",
    "    # Desviaciones estándar muestrales (n-1 en el denominador)\n",
    "    std_X = np.std(X, ddof=1)  # ddof=1 para obtener S_x\n",
    "    std_Y = np.std(Y, ddof=1)  # ddof=1 para obtener S_y\n",
    "\n",
    "    denominador = (n - 1) * std_X * std_Y\n",
    "    r = numerador / denominador\n",
    "    return r"
   ]
  },
  {
   "cell_type": "markdown",
   "id": "31e91318",
   "metadata": {},
   "source": [
    "## Primera aproximación a los datos de forma general y su limpieza:"
   ]
  },
  {
   "cell_type": "markdown",
   "id": "d5cf0edf",
   "metadata": {},
   "source": [
    "### 1. ¿Cuántas especies diferentes de pingüinos hay en el dataset? ¿Que caracteristicas de los pinguinos se dan para cada especie? "
   ]
  },
  {
   "cell_type": "code",
   "execution_count": 91,
   "id": "a83f07ae",
   "metadata": {},
   "outputs": [
    {
     "data": {
      "text/html": [
       "<div>\n",
       "<style scoped>\n",
       "    .dataframe tbody tr th:only-of-type {\n",
       "        vertical-align: middle;\n",
       "    }\n",
       "\n",
       "    .dataframe tbody tr th {\n",
       "        vertical-align: top;\n",
       "    }\n",
       "\n",
       "    .dataframe thead th {\n",
       "        text-align: right;\n",
       "    }\n",
       "</style>\n",
       "<table border=\"1\" class=\"dataframe\">\n",
       "  <thead>\n",
       "    <tr style=\"text-align: right;\">\n",
       "      <th></th>\n",
       "      <th>species</th>\n",
       "      <th>island</th>\n",
       "      <th>bill_length_mm</th>\n",
       "      <th>bill_depth_mm</th>\n",
       "      <th>flipper_length_mm</th>\n",
       "      <th>body_mass_g</th>\n",
       "      <th>sex</th>\n",
       "    </tr>\n",
       "  </thead>\n",
       "  <tbody>\n",
       "    <tr>\n",
       "      <th>0</th>\n",
       "      <td>Adelie</td>\n",
       "      <td>Torgersen</td>\n",
       "      <td>39.1</td>\n",
       "      <td>18.7</td>\n",
       "      <td>181.0</td>\n",
       "      <td>3750.0</td>\n",
       "      <td>Male</td>\n",
       "    </tr>\n",
       "    <tr>\n",
       "      <th>1</th>\n",
       "      <td>Adelie</td>\n",
       "      <td>Torgersen</td>\n",
       "      <td>39.5</td>\n",
       "      <td>17.4</td>\n",
       "      <td>186.0</td>\n",
       "      <td>3800.0</td>\n",
       "      <td>Female</td>\n",
       "    </tr>\n",
       "    <tr>\n",
       "      <th>2</th>\n",
       "      <td>Adelie</td>\n",
       "      <td>Torgersen</td>\n",
       "      <td>40.3</td>\n",
       "      <td>18.0</td>\n",
       "      <td>195.0</td>\n",
       "      <td>3250.0</td>\n",
       "      <td>Female</td>\n",
       "    </tr>\n",
       "    <tr>\n",
       "      <th>3</th>\n",
       "      <td>Adelie</td>\n",
       "      <td>Torgersen</td>\n",
       "      <td>NaN</td>\n",
       "      <td>NaN</td>\n",
       "      <td>NaN</td>\n",
       "      <td>NaN</td>\n",
       "      <td>NaN</td>\n",
       "    </tr>\n",
       "    <tr>\n",
       "      <th>4</th>\n",
       "      <td>Adelie</td>\n",
       "      <td>Torgersen</td>\n",
       "      <td>36.7</td>\n",
       "      <td>19.3</td>\n",
       "      <td>193.0</td>\n",
       "      <td>3450.0</td>\n",
       "      <td>Female</td>\n",
       "    </tr>\n",
       "    <tr>\n",
       "      <th>...</th>\n",
       "      <td>...</td>\n",
       "      <td>...</td>\n",
       "      <td>...</td>\n",
       "      <td>...</td>\n",
       "      <td>...</td>\n",
       "      <td>...</td>\n",
       "      <td>...</td>\n",
       "    </tr>\n",
       "    <tr>\n",
       "      <th>339</th>\n",
       "      <td>Gentoo</td>\n",
       "      <td>Biscoe</td>\n",
       "      <td>NaN</td>\n",
       "      <td>NaN</td>\n",
       "      <td>NaN</td>\n",
       "      <td>NaN</td>\n",
       "      <td>NaN</td>\n",
       "    </tr>\n",
       "    <tr>\n",
       "      <th>340</th>\n",
       "      <td>Gentoo</td>\n",
       "      <td>Biscoe</td>\n",
       "      <td>46.8</td>\n",
       "      <td>14.3</td>\n",
       "      <td>215.0</td>\n",
       "      <td>4850.0</td>\n",
       "      <td>Female</td>\n",
       "    </tr>\n",
       "    <tr>\n",
       "      <th>341</th>\n",
       "      <td>Gentoo</td>\n",
       "      <td>Biscoe</td>\n",
       "      <td>50.4</td>\n",
       "      <td>15.7</td>\n",
       "      <td>222.0</td>\n",
       "      <td>5750.0</td>\n",
       "      <td>Male</td>\n",
       "    </tr>\n",
       "    <tr>\n",
       "      <th>342</th>\n",
       "      <td>Gentoo</td>\n",
       "      <td>Biscoe</td>\n",
       "      <td>45.2</td>\n",
       "      <td>14.8</td>\n",
       "      <td>212.0</td>\n",
       "      <td>5200.0</td>\n",
       "      <td>Female</td>\n",
       "    </tr>\n",
       "    <tr>\n",
       "      <th>343</th>\n",
       "      <td>Gentoo</td>\n",
       "      <td>Biscoe</td>\n",
       "      <td>49.9</td>\n",
       "      <td>16.1</td>\n",
       "      <td>213.0</td>\n",
       "      <td>5400.0</td>\n",
       "      <td>Male</td>\n",
       "    </tr>\n",
       "  </tbody>\n",
       "</table>\n",
       "<p>344 rows × 7 columns</p>\n",
       "</div>"
      ],
      "text/plain": [
       "    species     island  bill_length_mm  bill_depth_mm  flipper_length_mm  \\\n",
       "0    Adelie  Torgersen            39.1           18.7              181.0   \n",
       "1    Adelie  Torgersen            39.5           17.4              186.0   \n",
       "2    Adelie  Torgersen            40.3           18.0              195.0   \n",
       "3    Adelie  Torgersen             NaN            NaN                NaN   \n",
       "4    Adelie  Torgersen            36.7           19.3              193.0   \n",
       "..      ...        ...             ...            ...                ...   \n",
       "339  Gentoo     Biscoe             NaN            NaN                NaN   \n",
       "340  Gentoo     Biscoe            46.8           14.3              215.0   \n",
       "341  Gentoo     Biscoe            50.4           15.7              222.0   \n",
       "342  Gentoo     Biscoe            45.2           14.8              212.0   \n",
       "343  Gentoo     Biscoe            49.9           16.1              213.0   \n",
       "\n",
       "     body_mass_g     sex  \n",
       "0         3750.0    Male  \n",
       "1         3800.0  Female  \n",
       "2         3250.0  Female  \n",
       "3            NaN     NaN  \n",
       "4         3450.0  Female  \n",
       "..           ...     ...  \n",
       "339          NaN     NaN  \n",
       "340       4850.0  Female  \n",
       "341       5750.0    Male  \n",
       "342       5200.0  Female  \n",
       "343       5400.0    Male  \n",
       "\n",
       "[344 rows x 7 columns]"
      ]
     },
     "execution_count": 91,
     "metadata": {},
     "output_type": "execute_result"
    }
   ],
   "source": [
    "df"
   ]
  },
  {
   "cell_type": "code",
   "execution_count": 92,
   "id": "f6d8e5f6",
   "metadata": {},
   "outputs": [
    {
     "data": {
      "text/plain": [
       "array(['Adelie', 'Chinstrap', 'Gentoo'], dtype=object)"
      ]
     },
     "execution_count": 92,
     "metadata": {},
     "output_type": "execute_result"
    }
   ],
   "source": [
    "df['species'].unique()"
   ]
  },
  {
   "cell_type": "markdown",
   "id": "f718bcf6",
   "metadata": {},
   "source": [
    "Hay 3 especies diferentes de pinguinos en el dataset.\n",
    "Las caracteristicas que se dan para cada especie son:\n",
    "- isla que habita\n",
    "- largo del pico\n",
    "- profundidad del pico\n",
    "- largo de la aleta\n",
    "- masa corporal\n",
    "- sexo"
   ]
  },
  {
   "cell_type": "markdown",
   "id": "ab6eedc5",
   "metadata": {},
   "source": [
    "### 2. ¿Hay valores faltantes en las variables? Determine una estrategie de limpieza y apliquela."
   ]
  },
  {
   "cell_type": "code",
   "execution_count": 93,
   "id": "ced8e5d9",
   "metadata": {},
   "outputs": [
    {
     "data": {
      "text/html": [
       "<div>\n",
       "<style scoped>\n",
       "    .dataframe tbody tr th:only-of-type {\n",
       "        vertical-align: middle;\n",
       "    }\n",
       "\n",
       "    .dataframe tbody tr th {\n",
       "        vertical-align: top;\n",
       "    }\n",
       "\n",
       "    .dataframe thead th {\n",
       "        text-align: right;\n",
       "    }\n",
       "</style>\n",
       "<table border=\"1\" class=\"dataframe\">\n",
       "  <thead>\n",
       "    <tr style=\"text-align: right;\">\n",
       "      <th></th>\n",
       "      <th>species</th>\n",
       "      <th>island</th>\n",
       "      <th>bill_length_mm</th>\n",
       "      <th>bill_depth_mm</th>\n",
       "      <th>flipper_length_mm</th>\n",
       "      <th>body_mass_g</th>\n",
       "      <th>sex</th>\n",
       "    </tr>\n",
       "  </thead>\n",
       "  <tbody>\n",
       "    <tr>\n",
       "      <th>0</th>\n",
       "      <td>Adelie</td>\n",
       "      <td>Torgersen</td>\n",
       "      <td>39.1</td>\n",
       "      <td>18.7</td>\n",
       "      <td>181.0</td>\n",
       "      <td>3750.0</td>\n",
       "      <td>Male</td>\n",
       "    </tr>\n",
       "    <tr>\n",
       "      <th>1</th>\n",
       "      <td>Adelie</td>\n",
       "      <td>Torgersen</td>\n",
       "      <td>39.5</td>\n",
       "      <td>17.4</td>\n",
       "      <td>186.0</td>\n",
       "      <td>3800.0</td>\n",
       "      <td>Female</td>\n",
       "    </tr>\n",
       "    <tr>\n",
       "      <th>2</th>\n",
       "      <td>Adelie</td>\n",
       "      <td>Torgersen</td>\n",
       "      <td>40.3</td>\n",
       "      <td>18.0</td>\n",
       "      <td>195.0</td>\n",
       "      <td>3250.0</td>\n",
       "      <td>Female</td>\n",
       "    </tr>\n",
       "    <tr>\n",
       "      <th>3</th>\n",
       "      <td>Adelie</td>\n",
       "      <td>Torgersen</td>\n",
       "      <td>NaN</td>\n",
       "      <td>NaN</td>\n",
       "      <td>NaN</td>\n",
       "      <td>NaN</td>\n",
       "      <td>NaN</td>\n",
       "    </tr>\n",
       "    <tr>\n",
       "      <th>4</th>\n",
       "      <td>Adelie</td>\n",
       "      <td>Torgersen</td>\n",
       "      <td>36.7</td>\n",
       "      <td>19.3</td>\n",
       "      <td>193.0</td>\n",
       "      <td>3450.0</td>\n",
       "      <td>Female</td>\n",
       "    </tr>\n",
       "    <tr>\n",
       "      <th>...</th>\n",
       "      <td>...</td>\n",
       "      <td>...</td>\n",
       "      <td>...</td>\n",
       "      <td>...</td>\n",
       "      <td>...</td>\n",
       "      <td>...</td>\n",
       "      <td>...</td>\n",
       "    </tr>\n",
       "    <tr>\n",
       "      <th>339</th>\n",
       "      <td>Gentoo</td>\n",
       "      <td>Biscoe</td>\n",
       "      <td>NaN</td>\n",
       "      <td>NaN</td>\n",
       "      <td>NaN</td>\n",
       "      <td>NaN</td>\n",
       "      <td>NaN</td>\n",
       "    </tr>\n",
       "    <tr>\n",
       "      <th>340</th>\n",
       "      <td>Gentoo</td>\n",
       "      <td>Biscoe</td>\n",
       "      <td>46.8</td>\n",
       "      <td>14.3</td>\n",
       "      <td>215.0</td>\n",
       "      <td>4850.0</td>\n",
       "      <td>Female</td>\n",
       "    </tr>\n",
       "    <tr>\n",
       "      <th>341</th>\n",
       "      <td>Gentoo</td>\n",
       "      <td>Biscoe</td>\n",
       "      <td>50.4</td>\n",
       "      <td>15.7</td>\n",
       "      <td>222.0</td>\n",
       "      <td>5750.0</td>\n",
       "      <td>Male</td>\n",
       "    </tr>\n",
       "    <tr>\n",
       "      <th>342</th>\n",
       "      <td>Gentoo</td>\n",
       "      <td>Biscoe</td>\n",
       "      <td>45.2</td>\n",
       "      <td>14.8</td>\n",
       "      <td>212.0</td>\n",
       "      <td>5200.0</td>\n",
       "      <td>Female</td>\n",
       "    </tr>\n",
       "    <tr>\n",
       "      <th>343</th>\n",
       "      <td>Gentoo</td>\n",
       "      <td>Biscoe</td>\n",
       "      <td>49.9</td>\n",
       "      <td>16.1</td>\n",
       "      <td>213.0</td>\n",
       "      <td>5400.0</td>\n",
       "      <td>Male</td>\n",
       "    </tr>\n",
       "  </tbody>\n",
       "</table>\n",
       "<p>344 rows × 7 columns</p>\n",
       "</div>"
      ],
      "text/plain": [
       "    species     island  bill_length_mm  bill_depth_mm  flipper_length_mm  \\\n",
       "0    Adelie  Torgersen            39.1           18.7              181.0   \n",
       "1    Adelie  Torgersen            39.5           17.4              186.0   \n",
       "2    Adelie  Torgersen            40.3           18.0              195.0   \n",
       "3    Adelie  Torgersen             NaN            NaN                NaN   \n",
       "4    Adelie  Torgersen            36.7           19.3              193.0   \n",
       "..      ...        ...             ...            ...                ...   \n",
       "339  Gentoo     Biscoe             NaN            NaN                NaN   \n",
       "340  Gentoo     Biscoe            46.8           14.3              215.0   \n",
       "341  Gentoo     Biscoe            50.4           15.7              222.0   \n",
       "342  Gentoo     Biscoe            45.2           14.8              212.0   \n",
       "343  Gentoo     Biscoe            49.9           16.1              213.0   \n",
       "\n",
       "     body_mass_g     sex  \n",
       "0         3750.0    Male  \n",
       "1         3800.0  Female  \n",
       "2         3250.0  Female  \n",
       "3            NaN     NaN  \n",
       "4         3450.0  Female  \n",
       "..           ...     ...  \n",
       "339          NaN     NaN  \n",
       "340       4850.0  Female  \n",
       "341       5750.0    Male  \n",
       "342       5200.0  Female  \n",
       "343       5400.0    Male  \n",
       "\n",
       "[344 rows x 7 columns]"
      ]
     },
     "execution_count": 93,
     "metadata": {},
     "output_type": "execute_result"
    }
   ],
   "source": [
    "df"
   ]
  },
  {
   "cell_type": "code",
   "execution_count": 94,
   "id": "a6bfeab2",
   "metadata": {},
   "outputs": [
    {
     "data": {
      "text/html": [
       "<div>\n",
       "<style scoped>\n",
       "    .dataframe tbody tr th:only-of-type {\n",
       "        vertical-align: middle;\n",
       "    }\n",
       "\n",
       "    .dataframe tbody tr th {\n",
       "        vertical-align: top;\n",
       "    }\n",
       "\n",
       "    .dataframe thead th {\n",
       "        text-align: right;\n",
       "    }\n",
       "</style>\n",
       "<table border=\"1\" class=\"dataframe\">\n",
       "  <thead>\n",
       "    <tr style=\"text-align: right;\">\n",
       "      <th></th>\n",
       "      <th>species</th>\n",
       "      <th>island</th>\n",
       "      <th>bill_length_mm</th>\n",
       "      <th>bill_depth_mm</th>\n",
       "      <th>flipper_length_mm</th>\n",
       "      <th>body_mass_g</th>\n",
       "      <th>sex</th>\n",
       "    </tr>\n",
       "  </thead>\n",
       "  <tbody>\n",
       "    <tr>\n",
       "      <th>0</th>\n",
       "      <td>Adelie</td>\n",
       "      <td>Torgersen</td>\n",
       "      <td>39.1</td>\n",
       "      <td>18.7</td>\n",
       "      <td>181.0</td>\n",
       "      <td>3750.0</td>\n",
       "      <td>Male</td>\n",
       "    </tr>\n",
       "    <tr>\n",
       "      <th>1</th>\n",
       "      <td>Adelie</td>\n",
       "      <td>Torgersen</td>\n",
       "      <td>39.5</td>\n",
       "      <td>17.4</td>\n",
       "      <td>186.0</td>\n",
       "      <td>3800.0</td>\n",
       "      <td>Female</td>\n",
       "    </tr>\n",
       "    <tr>\n",
       "      <th>2</th>\n",
       "      <td>Adelie</td>\n",
       "      <td>Torgersen</td>\n",
       "      <td>40.3</td>\n",
       "      <td>18.0</td>\n",
       "      <td>195.0</td>\n",
       "      <td>3250.0</td>\n",
       "      <td>Female</td>\n",
       "    </tr>\n",
       "    <tr>\n",
       "      <th>4</th>\n",
       "      <td>Adelie</td>\n",
       "      <td>Torgersen</td>\n",
       "      <td>36.7</td>\n",
       "      <td>19.3</td>\n",
       "      <td>193.0</td>\n",
       "      <td>3450.0</td>\n",
       "      <td>Female</td>\n",
       "    </tr>\n",
       "    <tr>\n",
       "      <th>5</th>\n",
       "      <td>Adelie</td>\n",
       "      <td>Torgersen</td>\n",
       "      <td>39.3</td>\n",
       "      <td>20.6</td>\n",
       "      <td>190.0</td>\n",
       "      <td>3650.0</td>\n",
       "      <td>Male</td>\n",
       "    </tr>\n",
       "    <tr>\n",
       "      <th>...</th>\n",
       "      <td>...</td>\n",
       "      <td>...</td>\n",
       "      <td>...</td>\n",
       "      <td>...</td>\n",
       "      <td>...</td>\n",
       "      <td>...</td>\n",
       "      <td>...</td>\n",
       "    </tr>\n",
       "    <tr>\n",
       "      <th>338</th>\n",
       "      <td>Gentoo</td>\n",
       "      <td>Biscoe</td>\n",
       "      <td>47.2</td>\n",
       "      <td>13.7</td>\n",
       "      <td>214.0</td>\n",
       "      <td>4925.0</td>\n",
       "      <td>Female</td>\n",
       "    </tr>\n",
       "    <tr>\n",
       "      <th>340</th>\n",
       "      <td>Gentoo</td>\n",
       "      <td>Biscoe</td>\n",
       "      <td>46.8</td>\n",
       "      <td>14.3</td>\n",
       "      <td>215.0</td>\n",
       "      <td>4850.0</td>\n",
       "      <td>Female</td>\n",
       "    </tr>\n",
       "    <tr>\n",
       "      <th>341</th>\n",
       "      <td>Gentoo</td>\n",
       "      <td>Biscoe</td>\n",
       "      <td>50.4</td>\n",
       "      <td>15.7</td>\n",
       "      <td>222.0</td>\n",
       "      <td>5750.0</td>\n",
       "      <td>Male</td>\n",
       "    </tr>\n",
       "    <tr>\n",
       "      <th>342</th>\n",
       "      <td>Gentoo</td>\n",
       "      <td>Biscoe</td>\n",
       "      <td>45.2</td>\n",
       "      <td>14.8</td>\n",
       "      <td>212.0</td>\n",
       "      <td>5200.0</td>\n",
       "      <td>Female</td>\n",
       "    </tr>\n",
       "    <tr>\n",
       "      <th>343</th>\n",
       "      <td>Gentoo</td>\n",
       "      <td>Biscoe</td>\n",
       "      <td>49.9</td>\n",
       "      <td>16.1</td>\n",
       "      <td>213.0</td>\n",
       "      <td>5400.0</td>\n",
       "      <td>Male</td>\n",
       "    </tr>\n",
       "  </tbody>\n",
       "</table>\n",
       "<p>333 rows × 7 columns</p>\n",
       "</div>"
      ],
      "text/plain": [
       "    species     island  bill_length_mm  bill_depth_mm  flipper_length_mm  \\\n",
       "0    Adelie  Torgersen            39.1           18.7              181.0   \n",
       "1    Adelie  Torgersen            39.5           17.4              186.0   \n",
       "2    Adelie  Torgersen            40.3           18.0              195.0   \n",
       "4    Adelie  Torgersen            36.7           19.3              193.0   \n",
       "5    Adelie  Torgersen            39.3           20.6              190.0   \n",
       "..      ...        ...             ...            ...                ...   \n",
       "338  Gentoo     Biscoe            47.2           13.7              214.0   \n",
       "340  Gentoo     Biscoe            46.8           14.3              215.0   \n",
       "341  Gentoo     Biscoe            50.4           15.7              222.0   \n",
       "342  Gentoo     Biscoe            45.2           14.8              212.0   \n",
       "343  Gentoo     Biscoe            49.9           16.1              213.0   \n",
       "\n",
       "     body_mass_g     sex  \n",
       "0         3750.0    Male  \n",
       "1         3800.0  Female  \n",
       "2         3250.0  Female  \n",
       "4         3450.0  Female  \n",
       "5         3650.0    Male  \n",
       "..           ...     ...  \n",
       "338       4925.0  Female  \n",
       "340       4850.0  Female  \n",
       "341       5750.0    Male  \n",
       "342       5200.0  Female  \n",
       "343       5400.0    Male  \n",
       "\n",
       "[333 rows x 7 columns]"
      ]
     },
     "execution_count": 94,
     "metadata": {},
     "output_type": "execute_result"
    }
   ],
   "source": [
    "df_clean = df.copy().dropna()\n",
    "df_clean"
   ]
  },
  {
   "cell_type": "markdown",
   "id": "3e69830c",
   "metadata": {},
   "source": [
    "Hay algunas filas enteras que contienen NaN por lo que se van a dropear todas las filas con NaNs"
   ]
  },
  {
   "cell_type": "markdown",
   "id": "b325b1a9",
   "metadata": {},
   "source": [
    "### 3. ¿Cuál es la isla con mayor número de pingüinos en el dataset? ¿Hay un desbalance en número en el número de pinguinos por isla?"
   ]
  },
  {
   "cell_type": "code",
   "execution_count": 95,
   "id": "8620beef",
   "metadata": {},
   "outputs": [
    {
     "data": {
      "text/plain": [
       "<Axes: xlabel='island'>"
      ]
     },
     "execution_count": 95,
     "metadata": {},
     "output_type": "execute_result"
    },
    {
     "data": {
      "image/png": "[encoded data removed]",
      "text/plain": [
       "<Figure size 640x480 with 1 Axes>"
      ]
     },
     "metadata": {},
     "output_type": "display_data"
    }
   ],
   "source": [
    "df_clean.groupby('island')['species'].count().plot(kind='bar')"
   ]
  },
  {
   "cell_type": "markdown",
   "id": "b4dda280",
   "metadata": {},
   "source": [
    "La isla con mayor numero de pinguinos es Biscoe.\n",
    "Se tiene un desbalance en el numero de pinguinos por isla debido a que la isla de Torgersen tiene menos de la mitad de pinguinos que cualquiera de las otras dos."
   ]
  },
  {
   "cell_type": "markdown",
   "id": "b228460e",
   "metadata": {},
   "source": [
    "### 4. Repita la pregunta anterior observando las especies."
   ]
  },
  {
   "cell_type": "code",
   "execution_count": 96,
   "id": "837110f4",
   "metadata": {},
   "outputs": [
    {
     "data": {
      "text/plain": [
       "species\n",
       "Adelie       146\n",
       "Chinstrap     68\n",
       "Gentoo       119\n",
       "Name: island, dtype: int64"
      ]
     },
     "execution_count": 96,
     "metadata": {},
     "output_type": "execute_result"
    }
   ],
   "source": [
    "df_clean.groupby('species')['island'].count()\n"
   ]
  },
  {
   "cell_type": "markdown",
   "id": "396851d6",
   "metadata": {},
   "source": [
    "EL mayor numero de pinguinos de una especie es Adelie. Al igual que en el punto anterior se observa un desbalance para el caso de la especie Chinstrap debido a su baja cantidad."
   ]
  },
  {
   "cell_type": "markdown",
   "id": "6eadbbb5",
   "metadata": {},
   "source": [
    "## Tendencias y visualizacion de las variables"
   ]
  },
  {
   "cell_type": "markdown",
   "id": "e1c0f54c",
   "metadata": {},
   "source": [
    "### 5. ¿Cuál es la longitud media y la desviacion estandard del tamaño del pico de los pingüinos por especie? "
   ]
  },
  {
   "cell_type": "code",
   "execution_count": 97,
   "id": "e4f4c7d6",
   "metadata": {},
   "outputs": [
    {
     "name": "stdout",
     "output_type": "stream",
     "text": [
      "Medias del largo del pico mm (media) (desviacion estandar)\n"
     ]
    },
    {
     "data": {
      "text/html": [
       "<div>\n",
       "<style scoped>\n",
       "    .dataframe tbody tr th:only-of-type {\n",
       "        vertical-align: middle;\n",
       "    }\n",
       "\n",
       "    .dataframe tbody tr th {\n",
       "        vertical-align: top;\n",
       "    }\n",
       "\n",
       "    .dataframe thead th {\n",
       "        text-align: right;\n",
       "    }\n",
       "</style>\n",
       "<table border=\"1\" class=\"dataframe\">\n",
       "  <thead>\n",
       "    <tr style=\"text-align: right;\">\n",
       "      <th></th>\n",
       "      <th>mean</th>\n",
       "      <th>std</th>\n",
       "    </tr>\n",
       "    <tr>\n",
       "      <th>species</th>\n",
       "      <th></th>\n",
       "      <th></th>\n",
       "    </tr>\n",
       "  </thead>\n",
       "  <tbody>\n",
       "    <tr>\n",
       "      <th>Adelie</th>\n",
       "      <td>38.823973</td>\n",
       "      <td>2.662597</td>\n",
       "    </tr>\n",
       "    <tr>\n",
       "      <th>Chinstrap</th>\n",
       "      <td>48.833824</td>\n",
       "      <td>3.339256</td>\n",
       "    </tr>\n",
       "    <tr>\n",
       "      <th>Gentoo</th>\n",
       "      <td>47.568067</td>\n",
       "      <td>3.106116</td>\n",
       "    </tr>\n",
       "  </tbody>\n",
       "</table>\n",
       "</div>"
      ],
      "text/plain": [
       "                mean       std\n",
       "species                       \n",
       "Adelie     38.823973  2.662597\n",
       "Chinstrap  48.833824  3.339256\n",
       "Gentoo     47.568067  3.106116"
      ]
     },
     "execution_count": 97,
     "metadata": {},
     "output_type": "execute_result"
    }
   ],
   "source": [
    "print('Medias del largo del pico mm (media) (desviacion estandar)')\n",
    "df_clean.groupby('species')['bill_length_mm'].agg(['mean','std'])"
   ]
  },
  {
   "cell_type": "markdown",
   "id": "c61778d0",
   "metadata": {},
   "source": [
    "### 6. ¿Qué pingüino tiene el pico más largo en el dataset y cuál es su especie?"
   ]
  },
  {
   "cell_type": "code",
   "execution_count": 98,
   "id": "02928398",
   "metadata": {},
   "outputs": [
    {
     "data": {
      "text/plain": [
       "species              Gentoo\n",
       "island               Biscoe\n",
       "bill_length_mm         59.6\n",
       "bill_depth_mm          17.0\n",
       "flipper_length_mm     230.0\n",
       "body_mass_g          6050.0\n",
       "sex                    Male\n",
       "Name: 253, dtype: object"
      ]
     },
     "execution_count": 98,
     "metadata": {},
     "output_type": "execute_result"
    }
   ],
   "source": [
    "df_clean.loc[df_clean[\"bill_length_mm\"].idxmax()]"
   ]
  },
  {
   "cell_type": "markdown",
   "id": "cf859764",
   "metadata": {},
   "source": [
    "El pinguino con el pico mas largo es de la especie Gentoo y le mide 59.6 mm "
   ]
  },
  {
   "cell_type": "markdown",
   "id": "fa0a46d7",
   "metadata": {},
   "source": [
    "### 7. ¿Como es la distribución de la masa corporal entre las especies de pingüinos? "
   ]
  },
  {
   "cell_type": "code",
   "execution_count": 99,
   "id": "8c5b7b78",
   "metadata": {},
   "outputs": [
    {
     "data": {
      "text/html": [
       "<div>\n",
       "<style scoped>\n",
       "    .dataframe tbody tr th:only-of-type {\n",
       "        vertical-align: middle;\n",
       "    }\n",
       "\n",
       "    .dataframe tbody tr th {\n",
       "        vertical-align: top;\n",
       "    }\n",
       "\n",
       "    .dataframe thead th {\n",
       "        text-align: right;\n",
       "    }\n",
       "</style>\n",
       "<table border=\"1\" class=\"dataframe\">\n",
       "  <thead>\n",
       "    <tr style=\"text-align: right;\">\n",
       "      <th></th>\n",
       "      <th>count</th>\n",
       "      <th>mean</th>\n",
       "      <th>std</th>\n",
       "      <th>min</th>\n",
       "      <th>25%</th>\n",
       "      <th>50%</th>\n",
       "      <th>75%</th>\n",
       "      <th>max</th>\n",
       "    </tr>\n",
       "    <tr>\n",
       "      <th>species</th>\n",
       "      <th></th>\n",
       "      <th></th>\n",
       "      <th></th>\n",
       "      <th></th>\n",
       "      <th></th>\n",
       "      <th></th>\n",
       "      <th></th>\n",
       "      <th></th>\n",
       "    </tr>\n",
       "  </thead>\n",
       "  <tbody>\n",
       "    <tr>\n",
       "      <th>Adelie</th>\n",
       "      <td>146.0</td>\n",
       "      <td>3706.164384</td>\n",
       "      <td>458.620135</td>\n",
       "      <td>2850.0</td>\n",
       "      <td>3362.5</td>\n",
       "      <td>3700.0</td>\n",
       "      <td>4000.0</td>\n",
       "      <td>4775.0</td>\n",
       "    </tr>\n",
       "    <tr>\n",
       "      <th>Chinstrap</th>\n",
       "      <td>68.0</td>\n",
       "      <td>3733.088235</td>\n",
       "      <td>384.335081</td>\n",
       "      <td>2700.0</td>\n",
       "      <td>3487.5</td>\n",
       "      <td>3700.0</td>\n",
       "      <td>3950.0</td>\n",
       "      <td>4800.0</td>\n",
       "    </tr>\n",
       "    <tr>\n",
       "      <th>Gentoo</th>\n",
       "      <td>119.0</td>\n",
       "      <td>5092.436975</td>\n",
       "      <td>501.476154</td>\n",
       "      <td>3950.0</td>\n",
       "      <td>4700.0</td>\n",
       "      <td>5050.0</td>\n",
       "      <td>5500.0</td>\n",
       "      <td>6300.0</td>\n",
       "    </tr>\n",
       "  </tbody>\n",
       "</table>\n",
       "</div>"
      ],
      "text/plain": [
       "           count         mean         std     min     25%     50%     75%  \\\n",
       "species                                                                     \n",
       "Adelie     146.0  3706.164384  458.620135  2850.0  3362.5  3700.0  4000.0   \n",
       "Chinstrap   68.0  3733.088235  384.335081  2700.0  3487.5  3700.0  3950.0   \n",
       "Gentoo     119.0  5092.436975  501.476154  3950.0  4700.0  5050.0  5500.0   \n",
       "\n",
       "              max  \n",
       "species            \n",
       "Adelie     4775.0  \n",
       "Chinstrap  4800.0  \n",
       "Gentoo     6300.0  "
      ]
     },
     "execution_count": 99,
     "metadata": {},
     "output_type": "execute_result"
    }
   ],
   "source": [
    "df_clean.groupby('species')['body_mass_g'].describe()"
   ]
  },
  {
   "cell_type": "markdown",
   "id": "f029af60",
   "metadata": {},
   "source": [
    "### 8. Describa la distribucion con ayuda de la media, desviacion estandard "
   ]
  },
  {
   "cell_type": "markdown",
   "id": "de26410e",
   "metadata": {},
   "source": [
    "Podemos ver que los pinguinos Gentoo son significativamente mas pesados que las otras dos. Tambien presentan una desviacion estandar mayor, por lo que la distribucion de sus pesos son mas dispersos."
   ]
  },
  {
   "cell_type": "markdown",
   "id": "1fbca0ca",
   "metadata": {},
   "source": [
    "### 9. ¿Cuál es la diferencia en masa corporal promedio y desviacion estandard entre machos y hembras? "
   ]
  },
  {
   "cell_type": "code",
   "execution_count": 100,
   "id": "4f8c467d",
   "metadata": {},
   "outputs": [
    {
     "data": {
      "text/html": [
       "<div>\n",
       "<style scoped>\n",
       "    .dataframe tbody tr th:only-of-type {\n",
       "        vertical-align: middle;\n",
       "    }\n",
       "\n",
       "    .dataframe tbody tr th {\n",
       "        vertical-align: top;\n",
       "    }\n",
       "\n",
       "    .dataframe thead th {\n",
       "        text-align: right;\n",
       "    }\n",
       "</style>\n",
       "<table border=\"1\" class=\"dataframe\">\n",
       "  <thead>\n",
       "    <tr style=\"text-align: right;\">\n",
       "      <th></th>\n",
       "      <th>count</th>\n",
       "      <th>mean</th>\n",
       "      <th>std</th>\n",
       "      <th>min</th>\n",
       "      <th>25%</th>\n",
       "      <th>50%</th>\n",
       "      <th>75%</th>\n",
       "      <th>max</th>\n",
       "    </tr>\n",
       "    <tr>\n",
       "      <th>sex</th>\n",
       "      <th></th>\n",
       "      <th></th>\n",
       "      <th></th>\n",
       "      <th></th>\n",
       "      <th></th>\n",
       "      <th></th>\n",
       "      <th></th>\n",
       "      <th></th>\n",
       "    </tr>\n",
       "  </thead>\n",
       "  <tbody>\n",
       "    <tr>\n",
       "      <th>Female</th>\n",
       "      <td>165.0</td>\n",
       "      <td>3862.272727</td>\n",
       "      <td>666.172050</td>\n",
       "      <td>2700.0</td>\n",
       "      <td>3350.0</td>\n",
       "      <td>3650.0</td>\n",
       "      <td>4550.0</td>\n",
       "      <td>5200.0</td>\n",
       "    </tr>\n",
       "    <tr>\n",
       "      <th>Male</th>\n",
       "      <td>168.0</td>\n",
       "      <td>4545.684524</td>\n",
       "      <td>787.628884</td>\n",
       "      <td>3250.0</td>\n",
       "      <td>3900.0</td>\n",
       "      <td>4300.0</td>\n",
       "      <td>5312.5</td>\n",
       "      <td>6300.0</td>\n",
       "    </tr>\n",
       "  </tbody>\n",
       "</table>\n",
       "</div>"
      ],
      "text/plain": [
       "        count         mean         std     min     25%     50%     75%     max\n",
       "sex                                                                           \n",
       "Female  165.0  3862.272727  666.172050  2700.0  3350.0  3650.0  4550.0  5200.0\n",
       "Male    168.0  4545.684524  787.628884  3250.0  3900.0  4300.0  5312.5  6300.0"
      ]
     },
     "execution_count": 100,
     "metadata": {},
     "output_type": "execute_result"
    }
   ],
   "source": [
    "df_clean.groupby('sex')['body_mass_g'].describe()\n"
   ]
  },
  {
   "cell_type": "markdown",
   "id": "0999e34a",
   "metadata": {},
   "source": [
    "Se puede notar que aunque las medias indican que los machos son bastante mas pesados que las hembras, tambien se tiene que la desviacion estandar hace que se sobrepongan los valores por lo que no se podria afirmar que todos los machos son mas pesados que las hembras, pero en general si se tiene esa tendencia."
   ]
  },
  {
   "cell_type": "markdown",
   "id": "a499d512",
   "metadata": {},
   "source": [
    "### 10. ¿Cuál es la media y la desviación estándar de la longitud de la aleta de los pingüinos por especie? "
   ]
  },
  {
   "cell_type": "code",
   "execution_count": 101,
   "id": "1fe2abc1",
   "metadata": {},
   "outputs": [
    {
     "name": "stdout",
     "output_type": "stream",
     "text": [
      "Medias del largo de la aleta mm (media) (desviacion estandar)\n"
     ]
    },
    {
     "data": {
      "text/html": [
       "<div>\n",
       "<style scoped>\n",
       "    .dataframe tbody tr th:only-of-type {\n",
       "        vertical-align: middle;\n",
       "    }\n",
       "\n",
       "    .dataframe tbody tr th {\n",
       "        vertical-align: top;\n",
       "    }\n",
       "\n",
       "    .dataframe thead th {\n",
       "        text-align: right;\n",
       "    }\n",
       "</style>\n",
       "<table border=\"1\" class=\"dataframe\">\n",
       "  <thead>\n",
       "    <tr style=\"text-align: right;\">\n",
       "      <th></th>\n",
       "      <th>mean</th>\n",
       "      <th>std</th>\n",
       "    </tr>\n",
       "    <tr>\n",
       "      <th>species</th>\n",
       "      <th></th>\n",
       "      <th></th>\n",
       "    </tr>\n",
       "  </thead>\n",
       "  <tbody>\n",
       "    <tr>\n",
       "      <th>Adelie</th>\n",
       "      <td>190.102740</td>\n",
       "      <td>6.521825</td>\n",
       "    </tr>\n",
       "    <tr>\n",
       "      <th>Chinstrap</th>\n",
       "      <td>195.823529</td>\n",
       "      <td>7.131894</td>\n",
       "    </tr>\n",
       "    <tr>\n",
       "      <th>Gentoo</th>\n",
       "      <td>217.235294</td>\n",
       "      <td>6.585431</td>\n",
       "    </tr>\n",
       "  </tbody>\n",
       "</table>\n",
       "</div>"
      ],
      "text/plain": [
       "                 mean       std\n",
       "species                        \n",
       "Adelie     190.102740  6.521825\n",
       "Chinstrap  195.823529  7.131894\n",
       "Gentoo     217.235294  6.585431"
      ]
     },
     "execution_count": 101,
     "metadata": {},
     "output_type": "execute_result"
    }
   ],
   "source": [
    "print('Medias del largo de la aleta mm (media) (desviacion estandar)')\n",
    "df_clean.groupby('species')['flipper_length_mm'].agg(['mean','std'])"
   ]
  },
  {
   "cell_type": "markdown",
   "id": "12a83008",
   "metadata": {},
   "source": [
    "### 11. ¿Cuál es la longitud mínima y máxima de la aleta entre las tres especies de pingüinos?"
   ]
  },
  {
   "cell_type": "code",
   "execution_count": 102,
   "id": "a89297c7",
   "metadata": {},
   "outputs": [
    {
     "name": "stdout",
     "output_type": "stream",
     "text": [
      "Minimo y maximo del largo de la aleta mm\n"
     ]
    },
    {
     "data": {
      "text/html": [
       "<div>\n",
       "<style scoped>\n",
       "    .dataframe tbody tr th:only-of-type {\n",
       "        vertical-align: middle;\n",
       "    }\n",
       "\n",
       "    .dataframe tbody tr th {\n",
       "        vertical-align: top;\n",
       "    }\n",
       "\n",
       "    .dataframe thead th {\n",
       "        text-align: right;\n",
       "    }\n",
       "</style>\n",
       "<table border=\"1\" class=\"dataframe\">\n",
       "  <thead>\n",
       "    <tr style=\"text-align: right;\">\n",
       "      <th></th>\n",
       "      <th>max</th>\n",
       "      <th>min</th>\n",
       "    </tr>\n",
       "    <tr>\n",
       "      <th>species</th>\n",
       "      <th></th>\n",
       "      <th></th>\n",
       "    </tr>\n",
       "  </thead>\n",
       "  <tbody>\n",
       "    <tr>\n",
       "      <th>Adelie</th>\n",
       "      <td>210.0</td>\n",
       "      <td>172.0</td>\n",
       "    </tr>\n",
       "    <tr>\n",
       "      <th>Chinstrap</th>\n",
       "      <td>212.0</td>\n",
       "      <td>178.0</td>\n",
       "    </tr>\n",
       "    <tr>\n",
       "      <th>Gentoo</th>\n",
       "      <td>231.0</td>\n",
       "      <td>203.0</td>\n",
       "    </tr>\n",
       "  </tbody>\n",
       "</table>\n",
       "</div>"
      ],
      "text/plain": [
       "             max    min\n",
       "species                \n",
       "Adelie     210.0  172.0\n",
       "Chinstrap  212.0  178.0\n",
       "Gentoo     231.0  203.0"
      ]
     },
     "execution_count": 102,
     "metadata": {},
     "output_type": "execute_result"
    }
   ],
   "source": [
    "print('Minimo y maximo del largo de la aleta mm')\n",
    "df_clean.groupby('species')['flipper_length_mm'].agg(['max','min'])"
   ]
  },
  {
   "cell_type": "markdown",
   "id": "7b12ef4d",
   "metadata": {},
   "source": [
    "### 12. ¿Cómo varía la longitud del pico entre las diferentes especies de pingüinos en las distintas islas?"
   ]
  },
  {
   "cell_type": "code",
   "execution_count": 103,
   "id": "c5597405",
   "metadata": {},
   "outputs": [
    {
     "name": "stdout",
     "output_type": "stream",
     "text": [
      "Longitud del pico de diferentes especies en cada isla\n"
     ]
    },
    {
     "data": {
      "text/html": [
       "<div>\n",
       "<style scoped>\n",
       "    .dataframe tbody tr th:only-of-type {\n",
       "        vertical-align: middle;\n",
       "    }\n",
       "\n",
       "    .dataframe tbody tr th {\n",
       "        vertical-align: top;\n",
       "    }\n",
       "\n",
       "    .dataframe thead th {\n",
       "        text-align: right;\n",
       "    }\n",
       "</style>\n",
       "<table border=\"1\" class=\"dataframe\">\n",
       "  <thead>\n",
       "    <tr style=\"text-align: right;\">\n",
       "      <th></th>\n",
       "      <th></th>\n",
       "      <th>mean</th>\n",
       "      <th>std</th>\n",
       "      <th>count</th>\n",
       "    </tr>\n",
       "    <tr>\n",
       "      <th>species</th>\n",
       "      <th>island</th>\n",
       "      <th></th>\n",
       "      <th></th>\n",
       "      <th></th>\n",
       "    </tr>\n",
       "  </thead>\n",
       "  <tbody>\n",
       "    <tr>\n",
       "      <th rowspan=\"3\" valign=\"top\">Adelie</th>\n",
       "      <th>Biscoe</th>\n",
       "      <td>38.975000</td>\n",
       "      <td>2.480916</td>\n",
       "      <td>44</td>\n",
       "    </tr>\n",
       "    <tr>\n",
       "      <th>Dream</th>\n",
       "      <td>38.520000</td>\n",
       "      <td>2.484276</td>\n",
       "      <td>55</td>\n",
       "    </tr>\n",
       "    <tr>\n",
       "      <th>Torgersen</th>\n",
       "      <td>39.038298</td>\n",
       "      <td>3.028097</td>\n",
       "      <td>47</td>\n",
       "    </tr>\n",
       "    <tr>\n",
       "      <th>Chinstrap</th>\n",
       "      <th>Dream</th>\n",
       "      <td>48.833824</td>\n",
       "      <td>3.339256</td>\n",
       "      <td>68</td>\n",
       "    </tr>\n",
       "    <tr>\n",
       "      <th>Gentoo</th>\n",
       "      <th>Biscoe</th>\n",
       "      <td>47.568067</td>\n",
       "      <td>3.106116</td>\n",
       "      <td>119</td>\n",
       "    </tr>\n",
       "  </tbody>\n",
       "</table>\n",
       "</div>"
      ],
      "text/plain": [
       "                          mean       std  count\n",
       "species   island                               \n",
       "Adelie    Biscoe     38.975000  2.480916     44\n",
       "          Dream      38.520000  2.484276     55\n",
       "          Torgersen  39.038298  3.028097     47\n",
       "Chinstrap Dream      48.833824  3.339256     68\n",
       "Gentoo    Biscoe     47.568067  3.106116    119"
      ]
     },
     "execution_count": 103,
     "metadata": {},
     "output_type": "execute_result"
    }
   ],
   "source": [
    "print('Longitud del pico de diferentes especies en cada isla')\n",
    "df_clean.groupby(['species', 'island'])['bill_length_mm'].agg(['mean', 'std', 'count'])"
   ]
  },
  {
   "cell_type": "markdown",
   "id": "b7eea7b0",
   "metadata": {},
   "source": [
    "Se puede ver que los pinguinos Adelie aunque se reparten por las tres islas, estos tienen una longitud para su pico bastante constante entre cada isla"
   ]
  },
  {
   "cell_type": "markdown",
   "id": "e3899226",
   "metadata": {},
   "source": [
    "### 13. ¿Cuál es la isla con la mayor variación en la longitud del pico entre las tres especies de pingüinos?"
   ]
  },
  {
   "cell_type": "code",
   "execution_count": 104,
   "id": "f7988a9d",
   "metadata": {},
   "outputs": [
    {
     "name": "stdout",
     "output_type": "stream",
     "text": [
      "Desviación estándar de las medias de longitud del pico por isla:\n",
      "island\n",
      "Dream        7.292975\n",
      "Biscoe       6.076216\n",
      "Torgersen         NaN\n",
      "Name: bill_length_mm, dtype: float64\n"
     ]
    }
   ],
   "source": [
    "df_clean.groupby(['species', 'island'])['bill_length_mm'].mean()\n",
    "\n",
    "mean_by_island = df_clean.groupby([\"island\", \"species\"])[\"bill_length_mm\"].mean().reset_index()\n",
    "std_by_island = mean_by_island.groupby(\"island\")[\"bill_length_mm\"].std().sort_values(ascending=False)\n",
    "\n",
    "print(\"Desviación estándar de las medias de longitud del pico por isla:\")\n",
    "print(std_by_island)"
   ]
  },
  {
   "cell_type": "markdown",
   "id": "cb5be279",
   "metadata": {},
   "source": [
    "Torgersen no tiene desviacion estandar ya que solo la especie Adelie la habita."
   ]
  },
  {
   "cell_type": "markdown",
   "id": "475d0dad",
   "metadata": {},
   "source": [
    "## Relación entre caracteristicas de los pingüinos"
   ]
  },
  {
   "cell_type": "markdown",
   "id": "9cc3a268",
   "metadata": {},
   "source": [
    "### 14. ¿Cuál es la relación entre la longitud del pico y la masa corporal de los pingüinos? ¿Cambia esa relación si se mira por especie? Utilice diagramas de dispersión para visualizarlos."
   ]
  },
  {
   "cell_type": "code",
   "execution_count": 105,
   "id": "62bcc86f",
   "metadata": {},
   "outputs": [
    {
     "data": {
      "image/png": "[encoded data removed]",
      "text/plain": [
       "<Figure size 640x480 with 1 Axes>"
      ]
     },
     "metadata": {},
     "output_type": "display_data"
    }
   ],
   "source": [
    "sns.scatterplot(data=df_clean, x=\"bill_length_mm\", y=\"body_mass_g\", hue=\"species\")\n",
    "plt.title(\"Relación entre longitud del pico y masa corporal\")\n",
    "plt.xlabel(\"Longitud del pico (mm)\")\n",
    "plt.ylabel(\"Masa corporal (g)\")\n",
    "plt.legend(title=\"Especie\")\n",
    "plt.show()"
   ]
  },
  {
   "cell_type": "code",
   "execution_count": 106,
   "id": "1064cef3",
   "metadata": {},
   "outputs": [
    {
     "data": {
      "image/png": "[encoded data removed]",
      "text/plain": [
       "<Figure size 1200x400 with 3 Axes>"
      ]
     },
     "metadata": {},
     "output_type": "display_data"
    }
   ],
   "source": [
    "g = sns.lmplot(\n",
    "    data=df_clean,\n",
    "    x=\"bill_length_mm\",\n",
    "    y=\"body_mass_g\",\n",
    "    hue=\"species\",\n",
    "    col=\"species\",\n",
    "    height=4,\n",
    "    aspect=1\n",
    ")\n",
    "g.figure.subplots_adjust(top=0.85)\n",
    "g.figure.suptitle(\"Relación pico-masa corporal por especie\")\n",
    "plt.show()\n"
   ]
  },
  {
   "cell_type": "markdown",
   "id": "9b67aba4",
   "metadata": {},
   "source": [
    "Se observa una relacion proporcional entre la longitud del pico y la masa corporal, a mayor largo del pico mayor masa corporal.\n",
    "Realizando el analisis por especie se logra ver que las pendientes son distintas por lo que las relaciones son distintas para cada especie."
   ]
  },
  {
   "cell_type": "markdown",
   "id": "20ad55b7",
   "metadata": {},
   "source": [
    "### 15. ¿Existe una correlación significativa entre la longitud del pico y la masa corporal en las diferentes especies de pingüinos?"
   ]
  },
  {
   "cell_type": "code",
   "execution_count": 110,
   "id": "4bdb60e3",
   "metadata": {},
   "outputs": [
    {
     "name": "stdout",
     "output_type": "stream",
     "text": [
      "Especie: Adelie\n",
      "  Correlación de Pearson: 0.54\n",
      "Especie: Chinstrap\n",
      "  Correlación de Pearson: 0.51\n",
      "Especie: Gentoo\n",
      "  Correlación de Pearson: 0.67\n"
     ]
    }
   ],
   "source": [
    "species_df = df_clean[\"species\"].unique()\n",
    "\n",
    "for species in species_df:\n",
    "    subset = df_clean[df_clean[\"species\"] == species]\n",
    "    corr = pearson_correlation(subset[\"bill_length_mm\"], subset[\"body_mass_g\"])\n",
    "    print(f\"Especie: {species}\")\n",
    "    print(f\"  Correlación de Pearson: {corr:.2f}\")"
   ]
  },
  {
   "cell_type": "markdown",
   "id": "2a1064be",
   "metadata": {},
   "source": [
    "Se puede ver que la correlacion entre el peso y el largo del pico de los pinguinos gentoo son suficientemente significativas, los otros dos se podria decir que aunque si presentan ese comportamiento no lo tienen tanto como la gentoo."
   ]
  },
  {
   "cell_type": "markdown",
   "id": "480b7c4e",
   "metadata": {},
   "source": [
    "### 16. ¿Cuál es la relación entre el sexo y la longitud de la aleta en los pingüinos por especie?"
   ]
  },
  {
   "cell_type": "code",
   "execution_count": 108,
   "id": "fa99ca7e",
   "metadata": {},
   "outputs": [
    {
     "data": {
      "text/html": [
       "<div>\n",
       "<style scoped>\n",
       "    .dataframe tbody tr th:only-of-type {\n",
       "        vertical-align: middle;\n",
       "    }\n",
       "\n",
       "    .dataframe tbody tr th {\n",
       "        vertical-align: top;\n",
       "    }\n",
       "\n",
       "    .dataframe thead th {\n",
       "        text-align: right;\n",
       "    }\n",
       "</style>\n",
       "<table border=\"1\" class=\"dataframe\">\n",
       "  <thead>\n",
       "    <tr style=\"text-align: right;\">\n",
       "      <th></th>\n",
       "      <th></th>\n",
       "      <th>mean</th>\n",
       "      <th>std</th>\n",
       "      <th>count</th>\n",
       "    </tr>\n",
       "    <tr>\n",
       "      <th>species</th>\n",
       "      <th>sex</th>\n",
       "      <th></th>\n",
       "      <th></th>\n",
       "      <th></th>\n",
       "    </tr>\n",
       "  </thead>\n",
       "  <tbody>\n",
       "    <tr>\n",
       "      <th rowspan=\"2\" valign=\"top\">Adelie</th>\n",
       "      <th>Female</th>\n",
       "      <td>187.794521</td>\n",
       "      <td>5.595035</td>\n",
       "      <td>73</td>\n",
       "    </tr>\n",
       "    <tr>\n",
       "      <th>Male</th>\n",
       "      <td>192.410959</td>\n",
       "      <td>6.599317</td>\n",
       "      <td>73</td>\n",
       "    </tr>\n",
       "    <tr>\n",
       "      <th rowspan=\"2\" valign=\"top\">Chinstrap</th>\n",
       "      <th>Female</th>\n",
       "      <td>191.735294</td>\n",
       "      <td>5.754096</td>\n",
       "      <td>34</td>\n",
       "    </tr>\n",
       "    <tr>\n",
       "      <th>Male</th>\n",
       "      <td>199.911765</td>\n",
       "      <td>5.976558</td>\n",
       "      <td>34</td>\n",
       "    </tr>\n",
       "    <tr>\n",
       "      <th rowspan=\"2\" valign=\"top\">Gentoo</th>\n",
       "      <th>Female</th>\n",
       "      <td>212.706897</td>\n",
       "      <td>3.897856</td>\n",
       "      <td>58</td>\n",
       "    </tr>\n",
       "    <tr>\n",
       "      <th>Male</th>\n",
       "      <td>221.540984</td>\n",
       "      <td>5.673252</td>\n",
       "      <td>61</td>\n",
       "    </tr>\n",
       "  </tbody>\n",
       "</table>\n",
       "</div>"
      ],
      "text/plain": [
       "                        mean       std  count\n",
       "species   sex                                \n",
       "Adelie    Female  187.794521  5.595035     73\n",
       "          Male    192.410959  6.599317     73\n",
       "Chinstrap Female  191.735294  5.754096     34\n",
       "          Male    199.911765  5.976558     34\n",
       "Gentoo    Female  212.706897  3.897856     58\n",
       "          Male    221.540984  5.673252     61"
      ]
     },
     "execution_count": 108,
     "metadata": {},
     "output_type": "execute_result"
    }
   ],
   "source": [
    "df_clean.groupby([\"species\", \"sex\"])[\"flipper_length_mm\"].agg([\"mean\", \"std\", \"count\"])"
   ]
  },
  {
   "cell_type": "markdown",
   "id": "21669e33",
   "metadata": {},
   "source": [
    "Para las especies Chinstrap y Gentoo se puede ver que los machos tienen una aleta 10mm mayor que las hembras en promedio, y en Adelie solo 5 mm mayor"
   ]
  },
  {
   "cell_type": "markdown",
   "id": "ae8ac5eb",
   "metadata": {},
   "source": [
    "## Test de hipótesis"
   ]
  },
  {
   "cell_type": "markdown",
   "id": "23dcf8f4",
   "metadata": {},
   "source": [
    "### 17. Escoja una de las tendencias que haya observado en la cual haya una correlación entre las variables y ahora con un test de hipótesis determine si esta correlación puede ser explicada por aleatoriedad. Para esta pregunta puede usar las relaciones del libro \"Probabilidad y Estadistica\" de Marques de Cantu sección 12.6 donde hay un ejemplo 12.8 que les guia como usar las expresiones y hacer las conclusiones. \n"
   ]
  },
  {
   "cell_type": "markdown",
   "id": "1744809d",
   "metadata": {},
   "source": [
    "Se quiere ver si existe una correlacion entre el largo de los picos y la masa corporal de los pinguinos.\n",
    "\n",
    "\n",
    "- **Hipótesis nula** $ H_0 $: no hay correlación real $\\rho = 0 $.\n",
    "- **Hipótesis alternativa** $ H_1 $: sí hay correlación $ \\rho \\neq 0 $.\n",
    "\n",
    "Transformación para convertir el coeficiente de correlación \\( r \\) en un valor \\( t \\):\n",
    "\n",
    "$$\n",
    "t = \\frac{r \\sqrt{n-2}}{\\sqrt{1-r^2}}\n",
    "$$"
   ]
  },
  {
   "cell_type": "code",
   "execution_count": 120,
   "id": "131b825f",
   "metadata": {},
   "outputs": [
    {
     "name": "stdout",
     "output_type": "stream",
     "text": [
      "r = 0.5895\n",
      "El estimador es: 13.276\n",
      "El intervalo es: [-1.9672 , 1.9672]\n"
     ]
    }
   ],
   "source": [
    "x = df_clean['bill_length_mm']\n",
    "y = df_clean['body_mass_g']\n",
    "n = len(df_clean)\n",
    "\n",
    "r = pearson_correlation(x, y)\n",
    "t = (r*np.sqrt(n-2))/(np.sqrt(1-r**2))\n",
    "intervalo = stats.t.interval(0.95, n-2, loc=0, scale=1)\n",
    "\n",
    "print(f\"r = {round(r,4)}\")\n",
    "print(f'El estimador es: {round(t, 3)}')\n",
    "print(f'El intervalo es: [{round(intervalo[0], 4)} , {round(intervalo[1], 4)}]')"
   ]
  },
  {
   "cell_type": "markdown",
   "id": "8ad24fc5",
   "metadata": {},
   "source": [
    "El estimador está fuera del intervalo y la hipotesis nula de no correlacion se rechaza."
   ]
  }
 ],
 "metadata": {
  "kernelspec": {
   "display_name": "stat_venv",
   "language": "python",
   "name": "python3"
  },
  "language_info": {
   "codemirror_mode": {
    "name": "ipython",
    "version": 3
   },
   "file_extension": ".py",
   "mimetype": "text/x-python",
   "name": "python",
   "nbconvert_exporter": "python",
   "pygments_lexer": "ipython3",
   "version": "3.12.3"
  }
 },
 "nbformat": 4,
 "nbformat_minor": 5
}
