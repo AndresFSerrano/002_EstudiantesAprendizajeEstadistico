{
 "cells": [
  {
   "cell_type": "markdown",
   "id": "b50afce1-ae03-4aed-84b8-1990dc615636",
   "metadata": {},
   "source": [
    "# DataSet de Pingüinos: Entregable # 1."
   ]
  },
  {
   "cell_type": "code",
   "execution_count": 1,
   "id": "8945c586-8ea0-4e71-94fa-1aa2244329f7",
   "metadata": {
    "scrolled": true
   },
   "outputs": [
    {
     "data": {
      "text/html": [
       "<div>\n",
       "<style scoped>\n",
       "    .dataframe tbody tr th:only-of-type {\n",
       "        vertical-align: middle;\n",
       "    }\n",
       "\n",
       "    .dataframe tbody tr th {\n",
       "        vertical-align: top;\n",
       "    }\n",
       "\n",
       "    .dataframe thead th {\n",
       "        text-align: right;\n",
       "    }\n",
       "</style>\n",
       "<table border=\"1\" class=\"dataframe\">\n",
       "  <thead>\n",
       "    <tr style=\"text-align: right;\">\n",
       "      <th></th>\n",
       "      <th>species</th>\n",
       "      <th>island</th>\n",
       "      <th>bill length mm</th>\n",
       "      <th>bill depth mm</th>\n",
       "      <th>flipper length mm</th>\n",
       "      <th>body mass g</th>\n",
       "      <th>sex</th>\n",
       "    </tr>\n",
       "  </thead>\n",
       "  <tbody>\n",
       "    <tr>\n",
       "      <th>0</th>\n",
       "      <td>Adelie</td>\n",
       "      <td>Torgersen</td>\n",
       "      <td>39.1</td>\n",
       "      <td>18.7</td>\n",
       "      <td>181.0</td>\n",
       "      <td>3750.0</td>\n",
       "      <td>Male</td>\n",
       "    </tr>\n",
       "    <tr>\n",
       "      <th>1</th>\n",
       "      <td>Adelie</td>\n",
       "      <td>Torgersen</td>\n",
       "      <td>39.5</td>\n",
       "      <td>17.4</td>\n",
       "      <td>186.0</td>\n",
       "      <td>3800.0</td>\n",
       "      <td>Female</td>\n",
       "    </tr>\n",
       "    <tr>\n",
       "      <th>2</th>\n",
       "      <td>Adelie</td>\n",
       "      <td>Torgersen</td>\n",
       "      <td>40.3</td>\n",
       "      <td>18.0</td>\n",
       "      <td>195.0</td>\n",
       "      <td>3250.0</td>\n",
       "      <td>Female</td>\n",
       "    </tr>\n",
       "    <tr>\n",
       "      <th>3</th>\n",
       "      <td>Adelie</td>\n",
       "      <td>Torgersen</td>\n",
       "      <td>NaN</td>\n",
       "      <td>NaN</td>\n",
       "      <td>NaN</td>\n",
       "      <td>NaN</td>\n",
       "      <td>NaN</td>\n",
       "    </tr>\n",
       "    <tr>\n",
       "      <th>4</th>\n",
       "      <td>Adelie</td>\n",
       "      <td>Torgersen</td>\n",
       "      <td>36.7</td>\n",
       "      <td>19.3</td>\n",
       "      <td>193.0</td>\n",
       "      <td>3450.0</td>\n",
       "      <td>Female</td>\n",
       "    </tr>\n",
       "  </tbody>\n",
       "</table>\n",
       "</div>"
      ],
      "text/plain": [
       "  species     island  bill length mm  bill depth mm  flipper length mm  \\\n",
       "0  Adelie  Torgersen            39.1           18.7              181.0   \n",
       "1  Adelie  Torgersen            39.5           17.4              186.0   \n",
       "2  Adelie  Torgersen            40.3           18.0              195.0   \n",
       "3  Adelie  Torgersen             NaN            NaN                NaN   \n",
       "4  Adelie  Torgersen            36.7           19.3              193.0   \n",
       "\n",
       "   body mass g     sex  \n",
       "0       3750.0    Male  \n",
       "1       3800.0  Female  \n",
       "2       3250.0  Female  \n",
       "3          NaN     NaN  \n",
       "4       3450.0  Female  "
      ]
     },
     "execution_count": 1,
     "metadata": {},
     "output_type": "execute_result"
    }
   ],
   "source": [
    "import numpy as np\n",
    "import pandas as pd\n",
    "import seaborn as sns\n",
    "import matplotlib.pyplot as plt\n",
    "\n",
    "\n",
    "# Cargar el dataset\n",
    "df = sns.load_dataset('penguins')\n",
    "def Pascal(Str):\n",
    "    return Str.strip().replace('_',' ')\n",
    "\n",
    "df = df.rename(mapper=Pascal,axis='columns') # reescribir las columnas.\n",
    "df.head()"
   ]
  },
  {
   "cell_type": "markdown",
   "id": "7812e784-a02c-457e-a3a9-073c0506b20d",
   "metadata": {},
   "source": [
    "### Primera aproximación a los datos de forma general y su limpieza."
   ]
  },
  {
   "cell_type": "markdown",
   "id": "67aac3ca-50fd-4254-9675-c08fd53c1ca5",
   "metadata": {},
   "source": [
    "**1)** ¿Cuántas especies diferentes de pingüinos hay en el dataset? ¿Qué caracteristicas de los pingüinos se dan para cada especie?"
   ]
  },
  {
   "cell_type": "markdown",
   "id": "224cd4ad-78be-4dcf-a903-109bd3ff334f",
   "metadata": {},
   "source": [
    "El número y tipo de especies diferentes de pingüinos se consigue fácilmente aplicando la función .unique() a la columna species."
   ]
  },
  {
   "cell_type": "code",
   "execution_count": 2,
   "id": "fc747805-c0fe-40df-93a8-a6113f2f7a4a",
   "metadata": {},
   "outputs": [
    {
     "data": {
      "text/plain": [
       "array(['Adelie', 'Chinstrap', 'Gentoo'], dtype=object)"
      ]
     },
     "execution_count": 2,
     "metadata": {},
     "output_type": "execute_result"
    }
   ],
   "source": [
    "df.species.unique()"
   ]
  },
  {
   "cell_type": "markdown",
   "id": "a6ced096-9178-4164-97ea-22a1f47bc7dc",
   "metadata": {},
   "source": [
    "El número de especies diferentes es $3$ y son Adelie, Chinstrap y Gentoo.  "
   ]
  },
  {
   "cell_type": "markdown",
   "id": "7d31a363-277e-43b3-b6cf-66634d021785",
   "metadata": {},
   "source": [
    "La isla y el sexo no son caracteristicas específicas de cada especie, de manera que si agrupamos por especie, isla y sexo, tendremos que las columnas serán precisamente las caracteristicas específicas de cada una de las especies."
   ]
  },
  {
   "cell_type": "code",
   "execution_count": 3,
   "id": "8f3ff25f-9026-420a-a420-d7e6930b7daf",
   "metadata": {},
   "outputs": [
    {
     "data": {
      "text/html": [
       "<div>\n",
       "<style scoped>\n",
       "    .dataframe tbody tr th:only-of-type {\n",
       "        vertical-align: middle;\n",
       "    }\n",
       "\n",
       "    .dataframe tbody tr th {\n",
       "        vertical-align: top;\n",
       "    }\n",
       "\n",
       "    .dataframe thead th {\n",
       "        text-align: right;\n",
       "    }\n",
       "</style>\n",
       "<table border=\"1\" class=\"dataframe\">\n",
       "  <thead>\n",
       "    <tr style=\"text-align: right;\">\n",
       "      <th></th>\n",
       "      <th></th>\n",
       "      <th></th>\n",
       "      <th>bill length mm</th>\n",
       "      <th>bill depth mm</th>\n",
       "      <th>flipper length mm</th>\n",
       "      <th>body mass g</th>\n",
       "    </tr>\n",
       "    <tr>\n",
       "      <th>species</th>\n",
       "      <th>island</th>\n",
       "      <th>sex</th>\n",
       "      <th></th>\n",
       "      <th></th>\n",
       "      <th></th>\n",
       "      <th></th>\n",
       "    </tr>\n",
       "  </thead>\n",
       "  <tbody>\n",
       "    <tr>\n",
       "      <th rowspan=\"6\" valign=\"top\">Adelie</th>\n",
       "      <th rowspan=\"2\" valign=\"top\">Biscoe</th>\n",
       "      <th>Female</th>\n",
       "      <td>22</td>\n",
       "      <td>22</td>\n",
       "      <td>22</td>\n",
       "      <td>22</td>\n",
       "    </tr>\n",
       "    <tr>\n",
       "      <th>Male</th>\n",
       "      <td>22</td>\n",
       "      <td>22</td>\n",
       "      <td>22</td>\n",
       "      <td>22</td>\n",
       "    </tr>\n",
       "    <tr>\n",
       "      <th rowspan=\"2\" valign=\"top\">Dream</th>\n",
       "      <th>Female</th>\n",
       "      <td>27</td>\n",
       "      <td>27</td>\n",
       "      <td>27</td>\n",
       "      <td>27</td>\n",
       "    </tr>\n",
       "    <tr>\n",
       "      <th>Male</th>\n",
       "      <td>28</td>\n",
       "      <td>28</td>\n",
       "      <td>28</td>\n",
       "      <td>28</td>\n",
       "    </tr>\n",
       "    <tr>\n",
       "      <th rowspan=\"2\" valign=\"top\">Torgersen</th>\n",
       "      <th>Female</th>\n",
       "      <td>24</td>\n",
       "      <td>24</td>\n",
       "      <td>24</td>\n",
       "      <td>24</td>\n",
       "    </tr>\n",
       "    <tr>\n",
       "      <th>Male</th>\n",
       "      <td>23</td>\n",
       "      <td>23</td>\n",
       "      <td>23</td>\n",
       "      <td>23</td>\n",
       "    </tr>\n",
       "    <tr>\n",
       "      <th rowspan=\"2\" valign=\"top\">Chinstrap</th>\n",
       "      <th rowspan=\"2\" valign=\"top\">Dream</th>\n",
       "      <th>Female</th>\n",
       "      <td>34</td>\n",
       "      <td>34</td>\n",
       "      <td>34</td>\n",
       "      <td>34</td>\n",
       "    </tr>\n",
       "    <tr>\n",
       "      <th>Male</th>\n",
       "      <td>34</td>\n",
       "      <td>34</td>\n",
       "      <td>34</td>\n",
       "      <td>34</td>\n",
       "    </tr>\n",
       "    <tr>\n",
       "      <th rowspan=\"2\" valign=\"top\">Gentoo</th>\n",
       "      <th rowspan=\"2\" valign=\"top\">Biscoe</th>\n",
       "      <th>Female</th>\n",
       "      <td>58</td>\n",
       "      <td>58</td>\n",
       "      <td>58</td>\n",
       "      <td>58</td>\n",
       "    </tr>\n",
       "    <tr>\n",
       "      <th>Male</th>\n",
       "      <td>61</td>\n",
       "      <td>61</td>\n",
       "      <td>61</td>\n",
       "      <td>61</td>\n",
       "    </tr>\n",
       "  </tbody>\n",
       "</table>\n",
       "</div>"
      ],
      "text/plain": [
       "                            bill length mm  bill depth mm  flipper length mm  \\\n",
       "species   island    sex                                                        \n",
       "Adelie    Biscoe    Female              22             22                 22   \n",
       "                    Male                22             22                 22   \n",
       "          Dream     Female              27             27                 27   \n",
       "                    Male                28             28                 28   \n",
       "          Torgersen Female              24             24                 24   \n",
       "                    Male                23             23                 23   \n",
       "Chinstrap Dream     Female              34             34                 34   \n",
       "                    Male                34             34                 34   \n",
       "Gentoo    Biscoe    Female              58             58                 58   \n",
       "                    Male                61             61                 61   \n",
       "\n",
       "                            body mass g  \n",
       "species   island    sex                  \n",
       "Adelie    Biscoe    Female           22  \n",
       "                    Male             22  \n",
       "          Dream     Female           27  \n",
       "                    Male             28  \n",
       "          Torgersen Female           24  \n",
       "                    Male             23  \n",
       "Chinstrap Dream     Female           34  \n",
       "                    Male             34  \n",
       "Gentoo    Biscoe    Female           58  \n",
       "                    Male             61  "
      ]
     },
     "execution_count": 3,
     "metadata": {},
     "output_type": "execute_result"
    }
   ],
   "source": [
    "df_ = df.groupby(['species', 'island','sex']).count()\n",
    "df_"
   ]
  },
  {
   "cell_type": "markdown",
   "id": "e451619f-bdaf-4c45-a05f-3a2179e9b0ef",
   "metadata": {},
   "source": [
    "Tenemos entonces cuatro caracteristicas para cada especie de pingüinos, las cuales son: longitud del pico en milímetros, profundidad del pico en milímetros, longitud de las aletas en milímetros y masas corporal en gramos."
   ]
  },
  {
   "cell_type": "markdown",
   "id": "80ec3d23-1198-4698-a108-e19be832e59f",
   "metadata": {},
   "source": [
    "**2)** ¿Hay valores faltantes en las variables? Determine una estrategia de limpieza y apliquela."
   ]
  },
  {
   "cell_type": "markdown",
   "id": "91d97e81-d0c4-42e9-b774-0c75cd170b10",
   "metadata": {},
   "source": [
    "La tabla original contiene algunas entradas con valores nulos; los eliminamos con la rutina .dropna() y reestablecemos los indices."
   ]
  },
  {
   "cell_type": "code",
   "execution_count": 4,
   "id": "5d1c4554-0be2-41e7-924c-953c022f9f77",
   "metadata": {},
   "outputs": [
    {
     "data": {
      "text/html": [
       "<div>\n",
       "<style scoped>\n",
       "    .dataframe tbody tr th:only-of-type {\n",
       "        vertical-align: middle;\n",
       "    }\n",
       "\n",
       "    .dataframe tbody tr th {\n",
       "        vertical-align: top;\n",
       "    }\n",
       "\n",
       "    .dataframe thead th {\n",
       "        text-align: right;\n",
       "    }\n",
       "</style>\n",
       "<table border=\"1\" class=\"dataframe\">\n",
       "  <thead>\n",
       "    <tr style=\"text-align: right;\">\n",
       "      <th></th>\n",
       "      <th>species</th>\n",
       "      <th>island</th>\n",
       "      <th>bill length mm</th>\n",
       "      <th>bill depth mm</th>\n",
       "      <th>flipper length mm</th>\n",
       "      <th>body mass g</th>\n",
       "      <th>sex</th>\n",
       "    </tr>\n",
       "  </thead>\n",
       "  <tbody>\n",
       "    <tr>\n",
       "      <th>0</th>\n",
       "      <td>Adelie</td>\n",
       "      <td>Torgersen</td>\n",
       "      <td>39.1</td>\n",
       "      <td>18.7</td>\n",
       "      <td>181.0</td>\n",
       "      <td>3750.0</td>\n",
       "      <td>Male</td>\n",
       "    </tr>\n",
       "    <tr>\n",
       "      <th>1</th>\n",
       "      <td>Adelie</td>\n",
       "      <td>Torgersen</td>\n",
       "      <td>39.5</td>\n",
       "      <td>17.4</td>\n",
       "      <td>186.0</td>\n",
       "      <td>3800.0</td>\n",
       "      <td>Female</td>\n",
       "    </tr>\n",
       "    <tr>\n",
       "      <th>2</th>\n",
       "      <td>Adelie</td>\n",
       "      <td>Torgersen</td>\n",
       "      <td>40.3</td>\n",
       "      <td>18.0</td>\n",
       "      <td>195.0</td>\n",
       "      <td>3250.0</td>\n",
       "      <td>Female</td>\n",
       "    </tr>\n",
       "    <tr>\n",
       "      <th>3</th>\n",
       "      <td>Adelie</td>\n",
       "      <td>Torgersen</td>\n",
       "      <td>36.7</td>\n",
       "      <td>19.3</td>\n",
       "      <td>193.0</td>\n",
       "      <td>3450.0</td>\n",
       "      <td>Female</td>\n",
       "    </tr>\n",
       "    <tr>\n",
       "      <th>4</th>\n",
       "      <td>Adelie</td>\n",
       "      <td>Torgersen</td>\n",
       "      <td>39.3</td>\n",
       "      <td>20.6</td>\n",
       "      <td>190.0</td>\n",
       "      <td>3650.0</td>\n",
       "      <td>Male</td>\n",
       "    </tr>\n",
       "    <tr>\n",
       "      <th>...</th>\n",
       "      <td>...</td>\n",
       "      <td>...</td>\n",
       "      <td>...</td>\n",
       "      <td>...</td>\n",
       "      <td>...</td>\n",
       "      <td>...</td>\n",
       "      <td>...</td>\n",
       "    </tr>\n",
       "    <tr>\n",
       "      <th>328</th>\n",
       "      <td>Gentoo</td>\n",
       "      <td>Biscoe</td>\n",
       "      <td>47.2</td>\n",
       "      <td>13.7</td>\n",
       "      <td>214.0</td>\n",
       "      <td>4925.0</td>\n",
       "      <td>Female</td>\n",
       "    </tr>\n",
       "    <tr>\n",
       "      <th>329</th>\n",
       "      <td>Gentoo</td>\n",
       "      <td>Biscoe</td>\n",
       "      <td>46.8</td>\n",
       "      <td>14.3</td>\n",
       "      <td>215.0</td>\n",
       "      <td>4850.0</td>\n",
       "      <td>Female</td>\n",
       "    </tr>\n",
       "    <tr>\n",
       "      <th>330</th>\n",
       "      <td>Gentoo</td>\n",
       "      <td>Biscoe</td>\n",
       "      <td>50.4</td>\n",
       "      <td>15.7</td>\n",
       "      <td>222.0</td>\n",
       "      <td>5750.0</td>\n",
       "      <td>Male</td>\n",
       "    </tr>\n",
       "    <tr>\n",
       "      <th>331</th>\n",
       "      <td>Gentoo</td>\n",
       "      <td>Biscoe</td>\n",
       "      <td>45.2</td>\n",
       "      <td>14.8</td>\n",
       "      <td>212.0</td>\n",
       "      <td>5200.0</td>\n",
       "      <td>Female</td>\n",
       "    </tr>\n",
       "    <tr>\n",
       "      <th>332</th>\n",
       "      <td>Gentoo</td>\n",
       "      <td>Biscoe</td>\n",
       "      <td>49.9</td>\n",
       "      <td>16.1</td>\n",
       "      <td>213.0</td>\n",
       "      <td>5400.0</td>\n",
       "      <td>Male</td>\n",
       "    </tr>\n",
       "  </tbody>\n",
       "</table>\n",
       "<p>333 rows × 7 columns</p>\n",
       "</div>"
      ],
      "text/plain": [
       "    species     island  bill length mm  bill depth mm  flipper length mm  \\\n",
       "0    Adelie  Torgersen            39.1           18.7              181.0   \n",
       "1    Adelie  Torgersen            39.5           17.4              186.0   \n",
       "2    Adelie  Torgersen            40.3           18.0              195.0   \n",
       "3    Adelie  Torgersen            36.7           19.3              193.0   \n",
       "4    Adelie  Torgersen            39.3           20.6              190.0   \n",
       "..      ...        ...             ...            ...                ...   \n",
       "328  Gentoo     Biscoe            47.2           13.7              214.0   \n",
       "329  Gentoo     Biscoe            46.8           14.3              215.0   \n",
       "330  Gentoo     Biscoe            50.4           15.7              222.0   \n",
       "331  Gentoo     Biscoe            45.2           14.8              212.0   \n",
       "332  Gentoo     Biscoe            49.9           16.1              213.0   \n",
       "\n",
       "     body mass g     sex  \n",
       "0         3750.0    Male  \n",
       "1         3800.0  Female  \n",
       "2         3250.0  Female  \n",
       "3         3450.0  Female  \n",
       "4         3650.0    Male  \n",
       "..           ...     ...  \n",
       "328       4925.0  Female  \n",
       "329       4850.0  Female  \n",
       "330       5750.0    Male  \n",
       "331       5200.0  Female  \n",
       "332       5400.0    Male  \n",
       "\n",
       "[333 rows x 7 columns]"
      ]
     },
     "execution_count": 4,
     "metadata": {},
     "output_type": "execute_result"
    }
   ],
   "source": [
    "df = df.dropna()\n",
    "df = df.reset_index(drop=True) # los anteriores indices no son agregados como nuevas columnas.\n",
    "df"
   ]
  },
  {
   "cell_type": "markdown",
   "id": "f9495c81-76d6-45f2-b425-fd9ad0aeee2b",
   "metadata": {},
   "source": [
    "**3)** ¿Cuál es la isla con mayor número de pingüinos en el dataset? ¿Hay un desbalance en número en el número de pinguinos por isla?"
   ]
  },
  {
   "cell_type": "markdown",
   "id": "82647672-7ebf-4ff1-ae33-051e38a5579f",
   "metadata": {},
   "source": [
    "Aplicando un groupby en 'island', seguido de un conteo nos dará el número de pingüinos por especie:"
   ]
  },
  {
   "cell_type": "code",
   "execution_count": 5,
   "id": "d9b503a2-1435-4c28-8e21-22ee0bcc2354",
   "metadata": {},
   "outputs": [
    {
     "data": {
      "text/html": [
       "<div>\n",
       "<style scoped>\n",
       "    .dataframe tbody tr th:only-of-type {\n",
       "        vertical-align: middle;\n",
       "    }\n",
       "\n",
       "    .dataframe tbody tr th {\n",
       "        vertical-align: top;\n",
       "    }\n",
       "\n",
       "    .dataframe thead th {\n",
       "        text-align: right;\n",
       "    }\n",
       "</style>\n",
       "<table border=\"1\" class=\"dataframe\">\n",
       "  <thead>\n",
       "    <tr style=\"text-align: right;\">\n",
       "      <th></th>\n",
       "      <th>species</th>\n",
       "      <th>bill length mm</th>\n",
       "      <th>bill depth mm</th>\n",
       "      <th>flipper length mm</th>\n",
       "      <th>body mass g</th>\n",
       "      <th>sex</th>\n",
       "    </tr>\n",
       "    <tr>\n",
       "      <th>island</th>\n",
       "      <th></th>\n",
       "      <th></th>\n",
       "      <th></th>\n",
       "      <th></th>\n",
       "      <th></th>\n",
       "      <th></th>\n",
       "    </tr>\n",
       "  </thead>\n",
       "  <tbody>\n",
       "    <tr>\n",
       "      <th>Biscoe</th>\n",
       "      <td>163</td>\n",
       "      <td>163</td>\n",
       "      <td>163</td>\n",
       "      <td>163</td>\n",
       "      <td>163</td>\n",
       "      <td>163</td>\n",
       "    </tr>\n",
       "    <tr>\n",
       "      <th>Dream</th>\n",
       "      <td>123</td>\n",
       "      <td>123</td>\n",
       "      <td>123</td>\n",
       "      <td>123</td>\n",
       "      <td>123</td>\n",
       "      <td>123</td>\n",
       "    </tr>\n",
       "    <tr>\n",
       "      <th>Torgersen</th>\n",
       "      <td>47</td>\n",
       "      <td>47</td>\n",
       "      <td>47</td>\n",
       "      <td>47</td>\n",
       "      <td>47</td>\n",
       "      <td>47</td>\n",
       "    </tr>\n",
       "  </tbody>\n",
       "</table>\n",
       "</div>"
      ],
      "text/plain": [
       "           species  bill length mm  bill depth mm  flipper length mm  \\\n",
       "island                                                                 \n",
       "Biscoe         163             163            163                163   \n",
       "Dream          123             123            123                123   \n",
       "Torgersen       47              47             47                 47   \n",
       "\n",
       "           body mass g  sex  \n",
       "island                       \n",
       "Biscoe             163  163  \n",
       "Dream              123  123  \n",
       "Torgersen           47   47  "
      ]
     },
     "execution_count": 5,
     "metadata": {},
     "output_type": "execute_result"
    }
   ],
   "source": [
    "df.groupby(['island']).count()"
   ]
  },
  {
   "cell_type": "code",
   "execution_count": 6,
   "id": "b42bc35c-886d-4cf6-8263-d380a6c14653",
   "metadata": {},
   "outputs": [
    {
     "data": {
      "text/plain": [
       "(0.754601226993865, 0.2883435582822086)"
      ]
     },
     "execution_count": 6,
     "metadata": {},
     "output_type": "execute_result"
    }
   ],
   "source": [
    "x = 123/163\n",
    "y = 47/163\n",
    "x,y"
   ]
  },
  {
   "cell_type": "markdown",
   "id": "89a88787-9191-4069-9606-dcc085a340de",
   "metadata": {},
   "source": [
    "La isla con mayor número de pingüinos según el dataset es Biscoe; la isla de Dream tiene aproximadamente el $75$% de la cantidad presente en Biscoe, y la isla de Torgersen un $29$%, de manera que podemos decir que hay un desbalance en el número de pingüinos por isla."
   ]
  },
  {
   "cell_type": "markdown",
   "id": "3dac1562-56f7-4707-aaa6-17e9b98450e9",
   "metadata": {},
   "source": [
    "**4)** Repita la pregunta anterior observando las especies."
   ]
  },
  {
   "cell_type": "code",
   "execution_count": 7,
   "id": "72c2a5da-7be2-4f04-9a0d-4bea602000da",
   "metadata": {},
   "outputs": [
    {
     "data": {
      "text/html": [
       "<div>\n",
       "<style scoped>\n",
       "    .dataframe tbody tr th:only-of-type {\n",
       "        vertical-align: middle;\n",
       "    }\n",
       "\n",
       "    .dataframe tbody tr th {\n",
       "        vertical-align: top;\n",
       "    }\n",
       "\n",
       "    .dataframe thead th {\n",
       "        text-align: right;\n",
       "    }\n",
       "</style>\n",
       "<table border=\"1\" class=\"dataframe\">\n",
       "  <thead>\n",
       "    <tr style=\"text-align: right;\">\n",
       "      <th></th>\n",
       "      <th></th>\n",
       "      <th>bill length mm</th>\n",
       "      <th>bill depth mm</th>\n",
       "      <th>flipper length mm</th>\n",
       "      <th>body mass g</th>\n",
       "      <th>sex</th>\n",
       "    </tr>\n",
       "    <tr>\n",
       "      <th>island</th>\n",
       "      <th>species</th>\n",
       "      <th></th>\n",
       "      <th></th>\n",
       "      <th></th>\n",
       "      <th></th>\n",
       "      <th></th>\n",
       "    </tr>\n",
       "  </thead>\n",
       "  <tbody>\n",
       "    <tr>\n",
       "      <th rowspan=\"2\" valign=\"top\">Biscoe</th>\n",
       "      <th>Adelie</th>\n",
       "      <td>44</td>\n",
       "      <td>44</td>\n",
       "      <td>44</td>\n",
       "      <td>44</td>\n",
       "      <td>44</td>\n",
       "    </tr>\n",
       "    <tr>\n",
       "      <th>Gentoo</th>\n",
       "      <td>119</td>\n",
       "      <td>119</td>\n",
       "      <td>119</td>\n",
       "      <td>119</td>\n",
       "      <td>119</td>\n",
       "    </tr>\n",
       "    <tr>\n",
       "      <th rowspan=\"2\" valign=\"top\">Dream</th>\n",
       "      <th>Adelie</th>\n",
       "      <td>55</td>\n",
       "      <td>55</td>\n",
       "      <td>55</td>\n",
       "      <td>55</td>\n",
       "      <td>55</td>\n",
       "    </tr>\n",
       "    <tr>\n",
       "      <th>Chinstrap</th>\n",
       "      <td>68</td>\n",
       "      <td>68</td>\n",
       "      <td>68</td>\n",
       "      <td>68</td>\n",
       "      <td>68</td>\n",
       "    </tr>\n",
       "    <tr>\n",
       "      <th>Torgersen</th>\n",
       "      <th>Adelie</th>\n",
       "      <td>47</td>\n",
       "      <td>47</td>\n",
       "      <td>47</td>\n",
       "      <td>47</td>\n",
       "      <td>47</td>\n",
       "    </tr>\n",
       "  </tbody>\n",
       "</table>\n",
       "</div>"
      ],
      "text/plain": [
       "                     bill length mm  bill depth mm  flipper length mm  \\\n",
       "island    species                                                       \n",
       "Biscoe    Adelie                 44             44                 44   \n",
       "          Gentoo                119            119                119   \n",
       "Dream     Adelie                 55             55                 55   \n",
       "          Chinstrap              68             68                 68   \n",
       "Torgersen Adelie                 47             47                 47   \n",
       "\n",
       "                     body mass g  sex  \n",
       "island    species                      \n",
       "Biscoe    Adelie              44   44  \n",
       "          Gentoo             119  119  \n",
       "Dream     Adelie              55   55  \n",
       "          Chinstrap           68   68  \n",
       "Torgersen Adelie              47   47  "
      ]
     },
     "execution_count": 7,
     "metadata": {},
     "output_type": "execute_result"
    }
   ],
   "source": [
    "df.groupby(['island','species']).count()"
   ]
  },
  {
   "cell_type": "markdown",
   "id": "ada3aa3c-57d8-4527-891d-f5bc3e41b7aa",
   "metadata": {},
   "source": [
    "Observando las especies notamos que la especie con más presencia en Biscoe es Gentoo, la cual solo se encuentra en este lugar. Por otro lado, la especie Chinstrap solo se encuentra en la isla Dream; pero la especie Adelie, que se encuentra en todas las islas, no presenta una diferencia significativa en función de la isla; en este sentido, no hay un desbalance en el número de pingüinos por isla."
   ]
  },
  {
   "cell_type": "markdown",
   "id": "3650b53a-2392-4244-a63a-28086d932cdd",
   "metadata": {},
   "source": [
    "<!--  -->"
   ]
  },
  {
   "cell_type": "markdown",
   "id": "96c7c731-8ae0-4865-bd34-ad6ef80ff9cb",
   "metadata": {},
   "source": [
    "### Tendencias y visualización de las variables."
   ]
  },
  {
   "cell_type": "markdown",
   "id": "e52a4444-d9d1-4c5e-acbd-35b860af85d0",
   "metadata": {},
   "source": [
    "**5)** ¿Cuál es la longitud media y la desviación estandar del tamaño del pico de los pingüinos por especie?"
   ]
  },
  {
   "cell_type": "markdown",
   "id": "957b0c65-eb3f-4ca9-a174-a9f3c4fdf404",
   "metadata": {},
   "source": [
    "tomamos solo las columnas 'species' y 'bill length  mm' y las agrupamos por especie; luego de esto se calcula la media y desviación estandar."
   ]
  },
  {
   "cell_type": "code",
   "execution_count": 8,
   "id": "d6005480-50cb-492d-ab48-85a3749e0580",
   "metadata": {},
   "outputs": [
    {
     "data": {
      "text/html": [
       "<div>\n",
       "<style scoped>\n",
       "    .dataframe tbody tr th:only-of-type {\n",
       "        vertical-align: middle;\n",
       "    }\n",
       "\n",
       "    .dataframe tbody tr th {\n",
       "        vertical-align: top;\n",
       "    }\n",
       "\n",
       "    .dataframe thead th {\n",
       "        text-align: right;\n",
       "    }\n",
       "</style>\n",
       "<table border=\"1\" class=\"dataframe\">\n",
       "  <thead>\n",
       "    <tr style=\"text-align: right;\">\n",
       "      <th></th>\n",
       "      <th>bill length mm</th>\n",
       "    </tr>\n",
       "    <tr>\n",
       "      <th>species</th>\n",
       "      <th></th>\n",
       "    </tr>\n",
       "  </thead>\n",
       "  <tbody>\n",
       "    <tr>\n",
       "      <th>Adelie</th>\n",
       "      <td>38.823973</td>\n",
       "    </tr>\n",
       "    <tr>\n",
       "      <th>Chinstrap</th>\n",
       "      <td>48.833824</td>\n",
       "    </tr>\n",
       "    <tr>\n",
       "      <th>Gentoo</th>\n",
       "      <td>47.568067</td>\n",
       "    </tr>\n",
       "  </tbody>\n",
       "</table>\n",
       "</div>"
      ],
      "text/plain": [
       "           bill length mm\n",
       "species                  \n",
       "Adelie          38.823973\n",
       "Chinstrap       48.833824\n",
       "Gentoo          47.568067"
      ]
     },
     "execution_count": 8,
     "metadata": {},
     "output_type": "execute_result"
    }
   ],
   "source": [
    "df[['species','bill length mm']].groupby('species').mean()"
   ]
  },
  {
   "cell_type": "code",
   "execution_count": 9,
   "id": "10378816-6e1a-4a55-99ab-4950b6b10c9d",
   "metadata": {},
   "outputs": [
    {
     "data": {
      "text/html": [
       "<div>\n",
       "<style scoped>\n",
       "    .dataframe tbody tr th:only-of-type {\n",
       "        vertical-align: middle;\n",
       "    }\n",
       "\n",
       "    .dataframe tbody tr th {\n",
       "        vertical-align: top;\n",
       "    }\n",
       "\n",
       "    .dataframe thead th {\n",
       "        text-align: right;\n",
       "    }\n",
       "</style>\n",
       "<table border=\"1\" class=\"dataframe\">\n",
       "  <thead>\n",
       "    <tr style=\"text-align: right;\">\n",
       "      <th></th>\n",
       "      <th>bill length mm</th>\n",
       "    </tr>\n",
       "    <tr>\n",
       "      <th>species</th>\n",
       "      <th></th>\n",
       "    </tr>\n",
       "  </thead>\n",
       "  <tbody>\n",
       "    <tr>\n",
       "      <th>Adelie</th>\n",
       "      <td>2.662597</td>\n",
       "    </tr>\n",
       "    <tr>\n",
       "      <th>Chinstrap</th>\n",
       "      <td>3.339256</td>\n",
       "    </tr>\n",
       "    <tr>\n",
       "      <th>Gentoo</th>\n",
       "      <td>3.106116</td>\n",
       "    </tr>\n",
       "  </tbody>\n",
       "</table>\n",
       "</div>"
      ],
      "text/plain": [
       "           bill length mm\n",
       "species                  \n",
       "Adelie           2.662597\n",
       "Chinstrap        3.339256\n",
       "Gentoo           3.106116"
      ]
     },
     "execution_count": 9,
     "metadata": {},
     "output_type": "execute_result"
    }
   ],
   "source": [
    "df[['species','bill length mm']].groupby('species').std()"
   ]
  },
  {
   "cell_type": "markdown",
   "id": "c907ba20-55d1-48c2-a209-937743698abc",
   "metadata": {},
   "source": [
    "Para las longitudes del pico de las diferentes especies en el DataSet tenemos que:\n",
    "\n",
    "* Adelie: $38.8 \\space \\pm 2.7$ mm\n",
    "* Chinstrap: $48.8 \\space \\pm 3.3$ mm\n",
    "* Gentoo: $47.6 \\space \\pm 3.1$ mm\n"
   ]
  },
  {
   "cell_type": "markdown",
   "id": "c51ab0bf-2727-4880-bb39-5a0b75540725",
   "metadata": {},
   "source": [
    "**6)** ¿Qué pingüino tiene el pico más largo en el dataset y cuál es su especie?"
   ]
  },
  {
   "cell_type": "markdown",
   "id": "1699de3d-6252-4b02-9c6e-543666cb0390",
   "metadata": {},
   "source": [
    "Debemos hacer uso de la condición del valor máximo como un filtro para el DataFrame así:"
   ]
  },
  {
   "cell_type": "code",
   "execution_count": 9,
   "id": "dabb8d43-b5c3-4d29-a923-5a8822a1b9ce",
   "metadata": {},
   "outputs": [
    {
     "data": {
      "text/html": [
       "<div>\n",
       "<style scoped>\n",
       "    .dataframe tbody tr th:only-of-type {\n",
       "        vertical-align: middle;\n",
       "    }\n",
       "\n",
       "    .dataframe tbody tr th {\n",
       "        vertical-align: top;\n",
       "    }\n",
       "\n",
       "    .dataframe thead th {\n",
       "        text-align: right;\n",
       "    }\n",
       "</style>\n",
       "<table border=\"1\" class=\"dataframe\">\n",
       "  <thead>\n",
       "    <tr style=\"text-align: right;\">\n",
       "      <th></th>\n",
       "      <th>species</th>\n",
       "      <th>island</th>\n",
       "      <th>bill length mm</th>\n",
       "      <th>bill depth mm</th>\n",
       "      <th>flipper length mm</th>\n",
       "      <th>body mass g</th>\n",
       "      <th>sex</th>\n",
       "    </tr>\n",
       "  </thead>\n",
       "  <tbody>\n",
       "    <tr>\n",
       "      <th>246</th>\n",
       "      <td>Gentoo</td>\n",
       "      <td>Biscoe</td>\n",
       "      <td>59.6</td>\n",
       "      <td>17.0</td>\n",
       "      <td>230.0</td>\n",
       "      <td>6050.0</td>\n",
       "      <td>Male</td>\n",
       "    </tr>\n",
       "  </tbody>\n",
       "</table>\n",
       "</div>"
      ],
      "text/plain": [
       "    species  island  bill length mm  bill depth mm  flipper length mm  \\\n",
       "246  Gentoo  Biscoe            59.6           17.0              230.0   \n",
       "\n",
       "     body mass g   sex  \n",
       "246       6050.0  Male  "
      ]
     },
     "execution_count": 9,
     "metadata": {},
     "output_type": "execute_result"
    }
   ],
   "source": [
    "lMax = df['bill length mm'].max()  # el pico más largo.\n",
    "df[df['bill length mm'] == lMax]"
   ]
  },
  {
   "cell_type": "markdown",
   "id": "e6786466-5826-4e53-8436-0b4e9d145c06",
   "metadata": {},
   "source": [
    "El pingüino con el pico más largo es de la especie Gentoo, está en la isla Biscoe, es macho y su pico tiene una longitud de $59.6$ mm."
   ]
  },
  {
   "cell_type": "markdown",
   "id": "fe3caa5f-0ce9-4624-9df3-00478af3e2f1",
   "metadata": {},
   "source": [
    "**7)** ¿Como es la distribución de la masa corporal entre las especies de pingüinos?"
   ]
  },
  {
   "cell_type": "markdown",
   "id": "16ac2483-0214-4138-910a-3f63cbde02fa",
   "metadata": {},
   "source": [
    "Si queremos ver la distribución de masa corporal de manera comparativa entre especies, utilizamos el paquete de 'seaborn' para hacer un gráfico con histogramas de esta cantidad en función de la especie."
   ]
  },
  {
   "cell_type": "code",
   "execution_count": 19,
   "id": "af95ad53-8066-4be8-a5e6-e8ebf47dc71d",
   "metadata": {},
   "outputs": [
    {
     "data": {
      "image/png": "[encoded data removed]",
      "text/plain": [
       "<Figure size 640x480 with 1 Axes>"
      ]
     },
     "metadata": {},
     "output_type": "display_data"
    }
   ],
   "source": [
    "sns.histplot(data=df, x='body mass g', hue='species',element='step')\n",
    "plt.title('Body mass distribution.')\n",
    "plt.show()"
   ]
  },
  {
   "cell_type": "markdown",
   "id": "416e3215-e5cd-4d5f-9406-cc2e1657dc01",
   "metadata": {},
   "source": [
    "En el gráfico vemos entonces las distribuciones de masa corporal para cada especie de pingüinos. Las especies Adelie y Chinstrap parecen tener una distribución de masa que sigue la distribución de Poisson, mientras que para la especie Gentoo, la distribución se asemeja más a una tipo Beta."
   ]
  },
  {
   "cell_type": "markdown",
   "id": "14509721-a5e5-4ae4-af29-998869ec5723",
   "metadata": {},
   "source": [
    "**8)** Describa la distribución con ayuda de la media y la desviación estandar."
   ]
  },
  {
   "cell_type": "markdown",
   "id": "ffef33a2-6531-4b0c-b925-d8e6d5e897b5",
   "metadata": {},
   "source": [
    "Una buena manera de describir las distribuciones haciedo uso de la media y la desviación estandar es por medio de un gráfico de tipo boxplot."
   ]
  },
  {
   "cell_type": "code",
   "execution_count": 11,
   "id": "3282212b-f7a0-434e-a6f2-65ba3414954f",
   "metadata": {},
   "outputs": [
    {
     "data": {
      "text/plain": [
       "<Axes: xlabel='body mass g', ylabel='species'>"
      ]
     },
     "execution_count": 11,
     "metadata": {},
     "output_type": "execute_result"
    },
    {
     "data": {
      "image/png": "[encoded data removed]",
      "text/plain": [
       "<Figure size 640x480 with 1 Axes>"
      ]
     },
     "metadata": {},
     "output_type": "display_data"
    }
   ],
   "source": [
    "sns.boxplot(data=df,y='species',x='body mass g')"
   ]
  },
  {
   "cell_type": "code",
   "execution_count": 12,
   "id": "c432e7a9-7d88-43f5-87ee-7554ba936db2",
   "metadata": {},
   "outputs": [
    {
     "name": "stdout",
     "output_type": "stream",
     "text": [
      "Media.\n",
      "\n",
      "            body mass g\n",
      "species               \n",
      "Adelie     3706.164384\n",
      "Chinstrap  3733.088235\n",
      "Gentoo     5092.436975\n",
      "\n",
      "========================\n",
      "\n",
      "Desviación estandar.\n",
      "\n",
      "            body mass g\n",
      "species               \n",
      "Adelie      458.620135\n",
      "Chinstrap   384.335081\n",
      "Gentoo      501.476154\n"
     ]
    }
   ],
   "source": [
    "print('Media.\\n\\n',\n",
    "      df[['species','body mass g']].groupby('species').mean())\n",
    "print('\\n========================\\n')\n",
    "print('Desviación estandar.\\n\\n',\n",
    "      df[['species','body mass g']].groupby('species').std())"
   ]
  },
  {
   "cell_type": "markdown",
   "id": "b1a00b57-01ce-4b58-8735-8546d857a6a4",
   "metadata": {},
   "source": [
    "Notamos entonces que las especies Adelie y Chinstrap tienen una media de la distribución de masa corporal muy similar, sin embargo las dispersiones asociadas son considerablemente diferentes, siendo mayor la de la especie Adelie. vemos además que de todas las especies, Gentoo es la que presenta una mayor dispersión y por la forma de la distribución, es de esperarse que tenga un valor de Skewness negativo; para las distribuciones de las otras dos especies el Skewness será ligeramente positivo."
   ]
  },
  {
   "cell_type": "markdown",
   "id": "e97b772f-7355-4fd2-aa9d-e72f26cb4195",
   "metadata": {},
   "source": [
    "**9)** ¿Cuál es la diferencia en masa corporal promedio y desviación estandar entre machos y hembras?"
   ]
  },
  {
   "cell_type": "code",
   "execution_count": 13,
   "id": "7bc252e0-7971-4f27-8df9-469744baf83a",
   "metadata": {},
   "outputs": [],
   "source": [
    "df_Male = df[df['sex'] == 'Male']\n",
    "df_Female = df[df['sex'] == 'Female']\n",
    "\n",
    "#  arreglos con DF's de media y std por género.\n",
    "Female = [df_Female[['species','body mass g']].groupby('species').mean(),\n",
    "       df_Female[['species','body mass g']].groupby('species').std()]\n",
    "Male = [df_Male[['species','body mass g']].groupby('species').mean(),\n",
    "       df_Male[['species','body mass g']].groupby('species').std()]"
   ]
  },
  {
   "cell_type": "code",
   "execution_count": 14,
   "id": "c65d0a2b-1fef-40fc-90c7-11c1613e05bf",
   "metadata": {},
   "outputs": [
    {
     "name": "stdout",
     "output_type": "stream",
     "text": [
      "Media.\n",
      "\n",
      "            body mass g\n",
      "species               \n",
      "Adelie      674.657534\n",
      "Chinstrap   411.764706\n",
      "Gentoo      805.094686\n",
      "\n",
      "========================\n",
      "\n",
      "Desviación estandar.\n",
      "\n",
      "            body mass g\n",
      "species               \n",
      "Adelie      439.139947\n",
      "Chinstrap   461.041263\n",
      "Gentoo      421.134944\n"
     ]
    }
   ],
   "source": [
    "print('Media.\\n\\n',Male[0] - Female[0])\n",
    "print('\\n========================\\n')\n",
    "\n",
    "# propagación de error.\n",
    "print('Desviación estandar.\\n\\n',np.sqrt(Male[1]**2 + Female[1]**2))"
   ]
  },
  {
   "cell_type": "markdown",
   "id": "bf271ad8-a50f-44c9-a6da-02599ee656db",
   "metadata": {},
   "source": [
    "El anterior resultado nos muestra entonces la diferencia en masa corporal media entre machos y hembras por especie de pingüinos y su correspondiente desviación estandar."
   ]
  },
  {
   "cell_type": "markdown",
   "id": "c9b7a99c-ac84-4026-a8e4-53f8143b9a08",
   "metadata": {},
   "source": [
    "**10)** ¿Cuál es la media y la desviación estándar de la longitud de la aleta de los pingüinos por especie?"
   ]
  },
  {
   "cell_type": "code",
   "execution_count": 21,
   "id": "51956070-8ca5-49f3-aea8-80932b764977",
   "metadata": {},
   "outputs": [
    {
     "data": {
      "text/html": [
       "<div>\n",
       "<style scoped>\n",
       "    .dataframe tbody tr th:only-of-type {\n",
       "        vertical-align: middle;\n",
       "    }\n",
       "\n",
       "    .dataframe tbody tr th {\n",
       "        vertical-align: top;\n",
       "    }\n",
       "\n",
       "    .dataframe thead th {\n",
       "        text-align: right;\n",
       "    }\n",
       "</style>\n",
       "<table border=\"1\" class=\"dataframe\">\n",
       "  <thead>\n",
       "    <tr style=\"text-align: right;\">\n",
       "      <th></th>\n",
       "      <th>flipper length mm</th>\n",
       "    </tr>\n",
       "    <tr>\n",
       "      <th>species</th>\n",
       "      <th></th>\n",
       "    </tr>\n",
       "  </thead>\n",
       "  <tbody>\n",
       "    <tr>\n",
       "      <th>Adelie</th>\n",
       "      <td>190.102740</td>\n",
       "    </tr>\n",
       "    <tr>\n",
       "      <th>Chinstrap</th>\n",
       "      <td>195.823529</td>\n",
       "    </tr>\n",
       "    <tr>\n",
       "      <th>Gentoo</th>\n",
       "      <td>217.235294</td>\n",
       "    </tr>\n",
       "  </tbody>\n",
       "</table>\n",
       "</div>"
      ],
      "text/plain": [
       "           flipper length mm\n",
       "species                     \n",
       "Adelie            190.102740\n",
       "Chinstrap         195.823529\n",
       "Gentoo            217.235294"
      ]
     },
     "execution_count": 21,
     "metadata": {},
     "output_type": "execute_result"
    }
   ],
   "source": [
    "df[['species','flipper length mm']].groupby('species').mean()"
   ]
  },
  {
   "cell_type": "code",
   "execution_count": 22,
   "id": "0c3d71d6-49c1-44e2-b540-aab0ebe6577c",
   "metadata": {},
   "outputs": [
    {
     "data": {
      "text/html": [
       "<div>\n",
       "<style scoped>\n",
       "    .dataframe tbody tr th:only-of-type {\n",
       "        vertical-align: middle;\n",
       "    }\n",
       "\n",
       "    .dataframe tbody tr th {\n",
       "        vertical-align: top;\n",
       "    }\n",
       "\n",
       "    .dataframe thead th {\n",
       "        text-align: right;\n",
       "    }\n",
       "</style>\n",
       "<table border=\"1\" class=\"dataframe\">\n",
       "  <thead>\n",
       "    <tr style=\"text-align: right;\">\n",
       "      <th></th>\n",
       "      <th>flipper length mm</th>\n",
       "    </tr>\n",
       "    <tr>\n",
       "      <th>species</th>\n",
       "      <th></th>\n",
       "    </tr>\n",
       "  </thead>\n",
       "  <tbody>\n",
       "    <tr>\n",
       "      <th>Adelie</th>\n",
       "      <td>6.521825</td>\n",
       "    </tr>\n",
       "    <tr>\n",
       "      <th>Chinstrap</th>\n",
       "      <td>7.131894</td>\n",
       "    </tr>\n",
       "    <tr>\n",
       "      <th>Gentoo</th>\n",
       "      <td>6.585431</td>\n",
       "    </tr>\n",
       "  </tbody>\n",
       "</table>\n",
       "</div>"
      ],
      "text/plain": [
       "           flipper length mm\n",
       "species                     \n",
       "Adelie              6.521825\n",
       "Chinstrap           7.131894\n",
       "Gentoo              6.585431"
      ]
     },
     "execution_count": 22,
     "metadata": {},
     "output_type": "execute_result"
    }
   ],
   "source": [
    "df[['species','flipper length mm']].groupby('species').std()"
   ]
  },
  {
   "cell_type": "markdown",
   "id": "7bf59813-faf9-44f4-9886-dfe5ea3a576f",
   "metadata": {},
   "source": [
    "Las anteriores agrupaciones corresponden a la media y desviación estándar de la longitud de la aleta de los pingüinos por especie."
   ]
  },
  {
   "cell_type": "markdown",
   "id": "b78d58f7-dbef-49fb-b8e7-7178515e1b06",
   "metadata": {},
   "source": [
    "**11)** ¿Cuál es la longitud mínima y máxima de la aleta entre las tres especies de pingüinos?"
   ]
  },
  {
   "cell_type": "code",
   "execution_count": 34,
   "id": "d11c566b-8daa-4900-b15c-066495b51902",
   "metadata": {},
   "outputs": [
    {
     "data": {
      "text/html": [
       "<div>\n",
       "<style scoped>\n",
       "    .dataframe tbody tr th:only-of-type {\n",
       "        vertical-align: middle;\n",
       "    }\n",
       "\n",
       "    .dataframe tbody tr th {\n",
       "        vertical-align: top;\n",
       "    }\n",
       "\n",
       "    .dataframe thead th {\n",
       "        text-align: right;\n",
       "    }\n",
       "</style>\n",
       "<table border=\"1\" class=\"dataframe\">\n",
       "  <thead>\n",
       "    <tr style=\"text-align: right;\">\n",
       "      <th></th>\n",
       "      <th>species</th>\n",
       "      <th>island</th>\n",
       "      <th>bill length mm</th>\n",
       "      <th>bill depth mm</th>\n",
       "      <th>flipper length mm</th>\n",
       "      <th>body mass g</th>\n",
       "      <th>sex</th>\n",
       "    </tr>\n",
       "  </thead>\n",
       "  <tbody>\n",
       "    <tr>\n",
       "      <th>23</th>\n",
       "      <td>Adelie</td>\n",
       "      <td>Biscoe</td>\n",
       "      <td>37.9</td>\n",
       "      <td>18.6</td>\n",
       "      <td>172.0</td>\n",
       "      <td>3150.0</td>\n",
       "      <td>Female</td>\n",
       "    </tr>\n",
       "    <tr>\n",
       "      <th>276</th>\n",
       "      <td>Gentoo</td>\n",
       "      <td>Biscoe</td>\n",
       "      <td>54.3</td>\n",
       "      <td>15.7</td>\n",
       "      <td>231.0</td>\n",
       "      <td>5650.0</td>\n",
       "      <td>Male</td>\n",
       "    </tr>\n",
       "  </tbody>\n",
       "</table>\n",
       "</div>"
      ],
      "text/plain": [
       "    species  island  bill length mm  bill depth mm  flipper length mm  \\\n",
       "23   Adelie  Biscoe            37.9           18.6              172.0   \n",
       "276  Gentoo  Biscoe            54.3           15.7              231.0   \n",
       "\n",
       "     body mass g     sex  \n",
       "23        3150.0  Female  \n",
       "276       5650.0    Male  "
      ]
     },
     "execution_count": 34,
     "metadata": {},
     "output_type": "execute_result"
    }
   ],
   "source": [
    "flipper_min = df['flipper length mm'].min()\n",
    "flipper_max = df['flipper length mm'].max()\n",
    "\n",
    "pd.concat([df[df['flipper length mm'] == flipper_min] , df[df['flipper length mm'] == flipper_max]],axis=0)"
   ]
  },
  {
   "cell_type": "markdown",
   "id": "cbb544a6-5de2-4c64-89fd-35e17cd8088a",
   "metadata": {},
   "source": [
    "La anterior tabla nos muestra la información de los pingüinos con la menor y mayor longitud de la aleta respectivamente; de manera que la longitud mínima de aleta es $172$ mm y pertenece a una hembra de la especie Adelie; por otro lado, la longitud máxima de aleta es $231$ mm y pertenece a un pingüino macho de la especie Gentoo."
   ]
  },
  {
   "cell_type": "markdown",
   "id": "6b6406d0-f595-4f41-b0d8-39ddc1fb4d8b",
   "metadata": {},
   "source": [
    "**12)** ¿Cómo varía la longitud del pico entre las diferentes especies de pingüinos en las distintas islas?"
   ]
  },
  {
   "cell_type": "markdown",
   "id": "a9da1b55-1390-4d11-a70f-de6231b7de0b",
   "metadata": {},
   "source": [
    "Debido a que se quiere comparar la longitud del pico entre las diferentes especies por isla, a continuación mostramos una agrupación primero por isla y luego por especie de la longitud media del pico de los pongüinos.  \n",
    "* En la isla Biscoe, la varación media del pico entre las especies Adelie y Gentoo es de  $8.6$ mm.  \n",
    "* En la isla Dream, la variación media del pico entre las especies Adelie y Chinstrap es de $10.3$ mm.  \n",
    "* En la isla Torgersen solo se cuenta con la especie Adelie."
   ]
  },
  {
   "cell_type": "code",
   "execution_count": 37,
   "id": "b54f461d-cca3-45b8-ad18-c2ea2da5fc9a",
   "metadata": {},
   "outputs": [
    {
     "data": {
      "text/html": [
       "<div>\n",
       "<style scoped>\n",
       "    .dataframe tbody tr th:only-of-type {\n",
       "        vertical-align: middle;\n",
       "    }\n",
       "\n",
       "    .dataframe tbody tr th {\n",
       "        vertical-align: top;\n",
       "    }\n",
       "\n",
       "    .dataframe thead th {\n",
       "        text-align: right;\n",
       "    }\n",
       "</style>\n",
       "<table border=\"1\" class=\"dataframe\">\n",
       "  <thead>\n",
       "    <tr style=\"text-align: right;\">\n",
       "      <th></th>\n",
       "      <th></th>\n",
       "      <th>bill length mm</th>\n",
       "    </tr>\n",
       "    <tr>\n",
       "      <th>island</th>\n",
       "      <th>species</th>\n",
       "      <th></th>\n",
       "    </tr>\n",
       "  </thead>\n",
       "  <tbody>\n",
       "    <tr>\n",
       "      <th rowspan=\"2\" valign=\"top\">Biscoe</th>\n",
       "      <th>Adelie</th>\n",
       "      <td>38.975000</td>\n",
       "    </tr>\n",
       "    <tr>\n",
       "      <th>Gentoo</th>\n",
       "      <td>47.568067</td>\n",
       "    </tr>\n",
       "    <tr>\n",
       "      <th rowspan=\"2\" valign=\"top\">Dream</th>\n",
       "      <th>Adelie</th>\n",
       "      <td>38.520000</td>\n",
       "    </tr>\n",
       "    <tr>\n",
       "      <th>Chinstrap</th>\n",
       "      <td>48.833824</td>\n",
       "    </tr>\n",
       "    <tr>\n",
       "      <th>Torgersen</th>\n",
       "      <th>Adelie</th>\n",
       "      <td>39.038298</td>\n",
       "    </tr>\n",
       "  </tbody>\n",
       "</table>\n",
       "</div>"
      ],
      "text/plain": [
       "                     bill length mm\n",
       "island    species                  \n",
       "Biscoe    Adelie          38.975000\n",
       "          Gentoo          47.568067\n",
       "Dream     Adelie          38.520000\n",
       "          Chinstrap       48.833824\n",
       "Torgersen Adelie          39.038298"
      ]
     },
     "execution_count": 37,
     "metadata": {},
     "output_type": "execute_result"
    }
   ],
   "source": [
    "df[['species', 'island','bill length mm']].groupby(['island','species']).mean()"
   ]
  },
  {
   "cell_type": "markdown",
   "id": "e394f3b1-77f8-48da-ba4b-26ab9ce0199a",
   "metadata": {},
   "source": [
    "**13)** ¿Cuál es la isla con la mayor variación en la longitud del pico entre las tres especies de pingüinos?"
   ]
  },
  {
   "cell_type": "markdown",
   "id": "0b5f9b29-36ff-4551-ac1c-394452e8b198",
   "metadata": {},
   "source": [
    "Usando los datos obtenidos de la anterior agrupación tenemos que la isla que presenta una mayor variación en la longitud del pico es Dream."
   ]
  },
  {
   "cell_type": "markdown",
   "id": "deaee477-e8d5-454c-8f7d-b2aaf910e687",
   "metadata": {},
   "source": [
    "<!--  -->"
   ]
  },
  {
   "cell_type": "markdown",
   "id": "0c0c4789-ba5d-4bf6-8470-465d8e952575",
   "metadata": {},
   "source": [
    "### Relación entre caracteristicas de los pingüinos."
   ]
  },
  {
   "cell_type": "markdown",
   "id": "9891bc70-8966-4e25-b9f2-35b5e538a5ce",
   "metadata": {},
   "source": [
    "**14)** ¿Cuál es la relación entre la longitud del pico y la masa corporal de los pingüinos? ¿Cambia esa relación si se mira por especie? Utilice diagramas de dispersión para visualizarlos."
   ]
  },
  {
   "cell_type": "code",
   "execution_count": 102,
   "id": "938c531e-d8b3-4457-8d2d-f452ba13c687",
   "metadata": {},
   "outputs": [
    {
     "data": {
      "image/png": "[encoded data removed]",
      "text/plain": [
       "<Figure size 600x400 with 1 Axes>"
      ]
     },
     "metadata": {},
     "output_type": "display_data"
    }
   ],
   "source": [
    "sns.pairplot(data=df,x_vars='body mass g',y_vars='bill length mm',height=4,aspect=1.5)\n",
    "plt.title('Relación entre la masa corporal y la longitud del pico de los pingüinos.')\n",
    "plt.show()"
   ]
  },
  {
   "cell_type": "markdown",
   "id": "4bd7052b-3e18-4f16-89c0-a339e768017c",
   "metadata": {},
   "source": [
    "En la figura podemos visualizar una leve correlación positiva entre la masa corporal y la longitud del pico de los pingüinos sin tener en cuenta su especie.  \n",
    "<!--  -->\n",
    "Si tenemos en cuenta la especie, el gráfico queda de la siguiente manera:"
   ]
  },
  {
   "cell_type": "code",
   "execution_count": 101,
   "id": "a26bae37-d45b-465f-88eb-7cb127edf5be",
   "metadata": {},
   "outputs": [
    {
     "data": {
      "image/png": "[encoded data removed]",
      "text/plain": [
       "<Figure size 717x400 with 1 Axes>"
      ]
     },
     "metadata": {},
     "output_type": "display_data"
    }
   ],
   "source": [
    "sns.pairplot(data=df,hue='species',x_vars='body mass g',y_vars='bill length mm',height=4,aspect=1.5)\n",
    "plt.title('Relación entre la masa corporal y la longitud del pico de los pingüinos por especie.')\n",
    "plt.show()"
   ]
  },
  {
   "cell_type": "markdown",
   "id": "673f525a-507e-48e4-97f3-97aefb2ca9e9",
   "metadata": {},
   "source": [
    "En el cual vemos que se sigue satisfaciendo la correlación, siendo más marcada para las especies Adelie y Gentoo."
   ]
  },
  {
   "cell_type": "markdown",
   "id": "b6cfead0-5542-4415-bfd0-d5bd812699a3",
   "metadata": {},
   "source": [
    "**15)** ¿Existe una correlación significativa entre la longitud del pico y la masa corporal en las diferentes especies de pingüinos?"
   ]
  },
  {
   "cell_type": "code",
   "execution_count": 66,
   "id": "b826dfd7-d1ee-4c15-9551-735face7e92b",
   "metadata": {},
   "outputs": [],
   "source": [
    "import scipy.stats as stats\n",
    "\n",
    "# arrays con las masas corporales para cada especie.\n",
    "body_mass_A = np.array(df[df['species'] == 'Adelie']['body mass g'])\n",
    "body_mass_C = np.array(df[df['species'] == 'Chinstrap']['body mass g'])\n",
    "body_mass_G = np.array(df[df['species'] == 'Gentoo']['body mass g'])\n",
    "\n",
    "# arrays con las long del pico para cada especie.\n",
    "bill_length_A = np.array(df[df['species'] == 'Adelie']['bill length mm'])\n",
    "bill_length_C = np.array(df[df['species'] == 'Chinstrap']['bill length mm'])\n",
    "bill_length_G = np.array(df[df['species'] == 'Gentoo']['bill length mm'])\n",
    "\n",
    "# cuantificar la correlación para cada especie.\n",
    "corr_A, pvA = stats.pearsonr(body_mass_A,bill_length_A)\n",
    "corr_C, pvC = stats.pearsonr(body_mass_C,bill_length_C)\n",
    "corr_G, pvG = stats.pearsonr(body_mass_G,bill_length_G)"
   ]
  },
  {
   "cell_type": "code",
   "execution_count": 88,
   "id": "a3d5ff12-ec1d-489b-b7af-9db39e87667f",
   "metadata": {},
   "outputs": [
    {
     "name": "stdout",
     "output_type": "stream",
     "text": [
      "\n",
      "Los coeficientes de correlación de Pearson y sus correspondientes p-value entre\n",
      "la masa corporal y la longitud del pico por especie de pingüino son:\n",
      "\n",
      "* Adelie:    Coef = 0.54 ; p-value = 1.241917971306323e-12\n",
      "* Chinstrap: Coef = 0.51 ; p-value = 7.480491991584471e-06\n",
      "* Gentoo:    Coef = 0.67 ; p-value = 1.2624180880764288e-16\n",
      "\n"
     ]
    }
   ],
   "source": [
    "print(f'''\n",
    "Los coeficientes de correlación de Pearson y sus correspondientes p-value entre\n",
    "la masa corporal y la longitud del pico por especie de pingüino son:\n",
    "\n",
    "* Adelie:    Coef = {corr_A:.2f} ; p-value = {pvA}\n",
    "* Chinstrap: Coef = {corr_C:.2f} ; p-value = {pvC}\n",
    "* Gentoo:    Coef = {corr_G:.2f} ; p-value = {pvG}\n",
    "''')\n"
   ]
  },
  {
   "cell_type": "markdown",
   "id": "db099d60-1724-4cab-850d-8853f2f5fec1",
   "metadata": {},
   "source": [
    "El anterior resultado indica que la correlación entre la masa corporal y la longitud del pico es significativa entre las diferentes especies."
   ]
  },
  {
   "cell_type": "markdown",
   "id": "ab65491b-6e35-484a-b699-fd679082097f",
   "metadata": {},
   "source": [
    "**16)** ¿Cuál es la relación entre el sexo y la longitud de la aleta en los pingüinos por especie?"
   ]
  },
  {
   "cell_type": "markdown",
   "id": "79c7f525-821f-4a13-8928-124556eae538",
   "metadata": {},
   "source": [
    "Haciendo un boxplot de la longitud de la aleta de los pingüinos categorizado por sexo para cada especie encontramos que, para cada una, la longitud media parece ser mayor para los machos que para las hembras:"
   ]
  },
  {
   "cell_type": "code",
   "execution_count": 99,
   "id": "4c8e5dc6-da0d-47cf-99d0-c22c585d1bd2",
   "metadata": {},
   "outputs": [
    {
     "data": {
      "image/png": "[encoded data removed]",
      "text/plain": [
       "<Figure size 640x480 with 1 Axes>"
      ]
     },
     "metadata": {},
     "output_type": "display_data"
    }
   ],
   "source": [
    "sns.boxplot(data=df,x='flipper length mm',y='sex',hue='species')\n",
    "plt.title('Relación entre el sexo y la longitud de la aleta de los pingüinos por especie.')\n",
    "plt.show()"
   ]
  },
  {
   "cell_type": "markdown",
   "id": "f2b64949-0547-47bc-89b0-3ed42d38ce9a",
   "metadata": {},
   "source": [
    "### Test de hipótesis."
   ]
  },
  {
   "cell_type": "markdown",
   "id": "9c3bae21-aacf-4949-abf7-57fd07be72c6",
   "metadata": {},
   "source": [
    "**17)** Escoja una de las tendencias que haya observado en la cual haya una correlación entre las variables y ahora con un test de hipótesis determine si esta correlación puede ser explicada por aleatoriedad. Para esta pregunta puede usar las relaciones del libro \"Probabilidad y Estadistica\" de Marques de Cantu sección 12.6 donde hay un ejemplo 12.8 que les guia como usar las expresiones y hacer las conclusiones."
   ]
  },
  {
   "cell_type": "markdown",
   "id": "09111fb8-c9ac-4a46-b8a0-1c45c6303dfa",
   "metadata": {},
   "source": [
    "Dado que ya tenemos los coeficientes de correlación de Pearson entre la masa y la longitud del pico de los pingüinos, calculemos el estimador y los correspondientes intervalos de confianza asociados a un nivel de significancia del $1$%; siendo nuestra hipótesis nula la no existencia de correlación entre la masa y la longitud del pico de los pingüinos."
   ]
  },
  {
   "cell_type": "code",
   "execution_count": 122,
   "id": "8c8da215-4061-4cf6-a659-836169d0b5f9",
   "metadata": {},
   "outputs": [],
   "source": [
    "# número de pingüinos de cada especie en el data set.\n",
    "nA = len(df[df['species'] == 'Adelie'])\n",
    "nC = len(df[df['species'] == 'Chinstrap'])\n",
    "nG = len(df[df['species'] == 'Gentoo'])\n",
    "\n",
    "# estimadores para cada especie.\n",
    "tA = corr_A*np.sqrt(nA - 2)/np.sqrt(1 - corr_A**2)\n",
    "tC = corr_C*np.sqrt(nC - 2)/np.sqrt(1 - corr_C**2)\n",
    "tG = corr_G*np.sqrt(nG - 2)/np.sqrt(1 - corr_G**2)\n",
    "\n",
    "# intervalos para cada especie.\n",
    "iA = stats.t.interval(0.99, nA - 2, loc=0, scale=1)\n",
    "iC = stats.t.interval(0.99, nC - 2, loc=0, scale=1)\n",
    "iG = stats.t.interval(0.99, nG - 2, loc=0, scale=1)"
   ]
  },
  {
   "cell_type": "code",
   "execution_count": 124,
   "id": "104432ef-884d-40cd-99fa-8d48a63de1c0",
   "metadata": {},
   "outputs": [
    {
     "name": "stdout",
     "output_type": "stream",
     "text": [
      "Los estimadores e intervalos para las diferentes especies son:\n",
      "\n",
      "* Adelie:    t = 7.786  ; [-2.610 , 2.610]\n",
      "* Chinstrap: t = 4.863  ; [-2.652 , 2.652]\n",
      "* Gentoo:    t = 9.676  ; [-2.619 , 2.619]\n",
      "\n"
     ]
    }
   ],
   "source": [
    "print(f'''Los estimadores e intervalos para las diferentes especies son:\\n\n",
    "* Adelie:    t = {tA:.3f}  ; [{iA[0]:.3f} , {iA[1]:.3f}]\n",
    "* Chinstrap: t = {tC:.3f}  ; [{iC[0]:.3f} , {iC[1]:.3f}]\n",
    "* Gentoo:    t = {tG:.3f}  ; [{iG[0]:.3f} , {iG[1]:.3f}]\n",
    "''')"
   ]
  },
  {
   "cell_type": "markdown",
   "id": "481a97a4-ea3f-4025-85b9-b113cb951091",
   "metadata": {},
   "source": [
    "Para las tres especies, el estimador está fuera del intervalo, de manera que la hipótesis nula se rechaza y decimos entonces que para un nivel de significancia del $1$% existe una correlación entre la masa corporal y la longitud del pico de los pingüinos para todas las especies consideradas en el dataset."
   ]
  },
  {
   "cell_type": "markdown",
   "id": "620e8325-dc0a-4b7f-b56a-f637f643ae4f",
   "metadata": {
    "jp-MarkdownHeadingCollapsed": true
   },
   "source": [
    "<!--  -->\n",
    "### *Juan José Pérez Avendaño*"
   ]
  }
 ],
 "metadata": {
  "kernelspec": {
   "display_name": "Python 3 (ipykernel)",
   "language": "python",
   "name": "python3"
  },
  "language_info": {
   "codemirror_mode": {
    "name": "ipython",
    "version": 3
   },
   "file_extension": ".py",
   "mimetype": "text/x-python",
   "name": "python",
   "nbconvert_exporter": "python",
   "pygments_lexer": "ipython3",
   "version": "3.11.5"
  }
 },
 "nbformat": 4,
 "nbformat_minor": 5
}
