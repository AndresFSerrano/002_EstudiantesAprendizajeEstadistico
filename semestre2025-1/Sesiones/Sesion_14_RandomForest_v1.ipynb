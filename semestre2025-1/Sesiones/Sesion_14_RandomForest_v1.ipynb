{
 "cells": [
  {
   "cell_type": "markdown",
   "metadata": {
    "id": "i0UciSetRFSB"
   },
   "source": [
    "<a href=\"https://colab.research.google.com/github/CienciaDatosUdea/002_EstudiantesAprendizajeEstadistico/blob/main/semestre2025-1/Sesiones/Sesion_14_RandomForest_v1.ipynb\" target=\"_parent\"><img src=\"https://colab.research.google.com/assets/colab-badge.svg\" alt=\"Open In Colab\"/></a>"
   ]
  },
  {
   "cell_type": "markdown",
   "metadata": {
    "id": "TxlxnKraVjvs"
   },
   "source": [
    "# Random Forest\n",
    "\n",
    "## Introducción\n",
    "\n",
    "Los árboles de decisión son modelos que se ajustan muy bien a los datos de entrenamiento; sin embargo, tienen una capacidad limitada para generalizar, lo que los hace susceptibles al **overfitting**, su principal desventaja.  \n",
    "Para abordar este problema, se desarrolló el algoritmo **Random Forest**, que se basa en dos características principales:\n",
    "\n",
    "1. Entrenamiento de múltiples árboles utilizando diferentes subconjuntos del conjunto de datos original.\n",
    "2. Uso de la técnica de **bootstrapping** para generar los subconjuntos de datos para cada árbol.\n",
    "\n",
    "---\n",
    "\n",
    "## Bootstrapping en Random Forest\n",
    "\n",
    "Dado un conjunto de datos con las siguientes características:\n",
    "\n",
    "| Index | $y$          | $X_1$      | $X_2$      | $X_3$      | $X_4$      |\n",
    "|-------|--------------|------------|------------|------------|------------|\n",
    "| 1     | $y^{(1)}$    | $X_1^{1}$  | $X_2^{1}$  | $X_3^{1}$  | $X_4^{1}$  |\n",
    "| 2     | $y^{(2)}$    | $X_1^{2}$  | $X_2^{2}$  | $X_3^{2}$  | $X_4^{2}$  |\n",
    "| 3     | $y^{(3)}$    | $X_1^{3}$  | $X_2^{3}$  | $X_3^{3}$  | $X_4^{3}$  |\n",
    "| 4     | $y^{(4)}$    | $X_1^{4}$  | $X_2^{4}$  | $X_3^{4}$  | $X_4^{4}$  |\n",
    "\n",
    "### Muestreo para los árboles\n",
    "El número de árboles en el bosque y los datos que ingresan a cada árbol son hiperparámetros que pueden definirse. Para generar los subconjuntos de datos, se emplea **bootstrapping**, una técnica de muestreo con reposición.\n",
    "\n",
    "Por ejemplo, si se generan subconjuntos de datos para 10 árboles, el muestreo con reposición podría producir algo como:\n",
    "\n",
    "```python\n",
    "import numpy as np\n",
    "np.random.randint(0, 4, (10, 4))\n",
    "\n",
    "Salida hipotética\n",
    "\n",
    "array([[1, 0, 3, 3],\n",
    "       [2, 1, 2, 0],\n",
    "       [2, 3, 3, 3],\n",
    "       [0, 2, 2, 3],\n",
    "       [2, 0, 3, 3],\n",
    "       [1, 1, 2, 0],\n",
    "       [2, 2, 1, 2],\n",
    "       [3, 0, 1, 0],\n",
    "       [3, 1, 0, 2],\n",
    "       [2, 0, 2, 0]])\n",
    "```\n",
    "Cada fila del array representa los índices seleccionados para entrenar un árbol. Por ejemplo, el árbol 1 se entrenará con los datos $X_1$, $X_2$, $X_3$, $X_4$ correspondientes a los índices [1, 0, 3, 3].\n",
    "\n",
    "\n",
    "# Construcción de los Árboles\n",
    "\n",
    "## Selección aleatoria de características\n",
    "- En cada nodo de un árbol, se selecciona un subconjunto aleatorio de características para dividir los datos.\n",
    "\n",
    "## Agregación de árboles\n",
    "- Una vez entrenados todos los árboles, se combinan mediante un proceso de **agregación**.  \n",
    "  Cuando se pasa un nuevo dato, cada árbol emite una clasificación, y la decisión final se toma por mayoría de votos.\n",
    "\n",
    "---\n",
    "\n",
    "# Relación entre Bagging y Random Forest\n",
    "\n",
    "- **Bagging:** Combina **agregación** y **bootstrapping**.\n",
    "- **Random Forest:** Es una extensión de bagging con selección aleatoria de características en cada nodo.\n",
    "\n",
    "---\n",
    "\n",
    "# Optimización de Random Forest\n",
    "\n",
    "La estrategia para optimizar un Random Forest incluye los siguientes pasos:\n",
    "\n",
    "1. **Fijar el número de árboles y evaluar el error:**  \n",
    "   Determinar el error como función del número de árboles en el bosque.\n",
    "\n",
    "2. **Ajustar el número de características:**  \n",
    "   Con un número fijo de árboles, calcular el error como función del número de características seleccionadas en cada nodo.\n",
    "\n",
    "3. **Optimizar el criterio de parada:**  \n",
    "   Ajustar parámetros como el número mínimo de datos en una hoja para reducir el error y mejorar la generalización.\n",
    "\n",
    "---\n",
    "\n",
    "# Ventajas de Random Forest\n",
    "\n",
    "- Reduce el riesgo de overfitting al promediar múltiples árboles.\n",
    "- Permite identificar las características más importantes del conjunto de datos.\n",
    "\n",
    "---\n",
    "\n",
    "# Referencias\n",
    "\n",
    "1. [Codificando Bits - Random Forest](https://www.youtube.com/watch?v=3pa0vtW64Ic&ab_channel=CodificandoBits)\n",
    "2. [Wikipedia - Bootstrap Aggregating](https://en.wikipedia.org/wiki/Bootstrap_aggregating)\n",
    "3. [Random Forest Book](http://www.cs.cmu.edu/~qyj/papersA08/11-rfbook.pdf)\n",
    "4. [Hands-On Machine Learning](https://github.com/ageron/handson-ml2/blob/master/07_ensemble_learning_and_random_forests.ipynb)\n"
   ]
  },
  {
   "cell_type": "code",
   "execution_count": null,
   "metadata": {
    "id": "TulFKeFCasTw"
   },
   "outputs": [],
   "source": [
    "#https://github.com/ageron/handson-ml2/blob/master/07_ensemble_learning_and_random_forests.ipynb"
   ]
  },
  {
   "cell_type": "code",
   "execution_count": null,
   "metadata": {
    "colab": {
     "base_uri": "https://localhost:8080/",
     "height": 282
    },
    "id": "XCIK0WeCmtRD",
    "outputId": "7f82249b-cff1-49b9-d698-494642816301"
   },
   "outputs": [
    {
     "data": {
      "text/plain": [
       "[<matplotlib.lines.Line2D at 0x7f5c746c4a50>]"
      ]
     },
     "execution_count": 11,
     "metadata": {},
     "output_type": "execute_result"
    },
    {
     "data": {
      "image/png": "[encoded data removed]",
      "text/plain": [
       "<Figure size 432x288 with 4 Axes>"
      ]
     },
     "metadata": {
      "needs_background": "light"
     },
     "output_type": "display_data"
    }
   ],
   "source": [
    "from sklearn.datasets import make_moons\n",
    "from sklearn.datasets import make_circles\n",
    "from sklearn.datasets import make_classification\n",
    "from sklearn.datasets import make_blobs\n",
    "import matplotlib.pylab as plt\n",
    "\n",
    "# Dataset Toys References\n",
    "# https://scikit-learn.org/stable/datasets/toy_dataset.html\n",
    "# https://matplotlib.org/stable/gallery/subplots_axes_and_figures/subplots_demo.html\n",
    "# Dataset sinteticos\n",
    "X0, y0 = make_classification(\n",
    "    n_features=2, n_redundant=0, n_informative=2, random_state=1, n_clusters_per_class=1)\n",
    "X1, y1 = make_moons(n_samples=100, noise=0.15, shuffle=True,  random_state=1)\n",
    "X2, y2 = make_circles(n_samples=100, noise=0.05, shuffle=True,  random_state=1)\n",
    "X3, y3 = make_blobs(n_samples=500, centers=3, n_features=2,shuffle=True,\n",
    "                    random_state=10)\n",
    "\n",
    "fig, axs = plt.subplots(2,2)\n",
    "\n",
    "axs[0, 0].plot(X0[:,0][y0==0],X0[:,1][y0==0],\"ro\", alpha=0.5)\n",
    "axs[0, 0].plot(X0[:,0][y0==1],X0[:,1][y0==1],\"bo\", alpha=0.5)\n",
    "\n",
    "# Dataset a moons\n",
    "axs[0, 1].plot(X1[:,0][y1==0],X1[:,1][y1==0],\"ro\", alpha=0.5)\n",
    "axs[0, 1].plot(X1[:,0][y1==1],X1[:,1][y1==1],\"bo\", alpha=0.5)\n",
    "\n",
    "# Dataset circles\n",
    "axs[1, 0].plot(X2[:,0][y2==0],X2[:,1][y2==0],\"ro\", alpha=0.5)\n",
    "axs[1, 0].plot(X2[:,0][y2==1],X2[:,1][y2==1],\"bo\", alpha=0.5)\n",
    "\n",
    "# Dataset circles\n",
    "axs[1, 1].plot(X3[:,0][y3==0],X3[:,1][y3==0],\"ro\", alpha=0.5)\n",
    "axs[1, 1].plot(X3[:,0][y3==1],X3[:,1][y3==1],\"bo\", alpha=0.5)\n",
    "axs[1, 1].plot(X3[:,0][y3==2],X3[:,1][y3==2],\"go\", alpha=0.5)"
   ]
  },
  {
   "cell_type": "code",
   "execution_count": null,
   "metadata": {
    "colab": {
     "base_uri": "https://localhost:8080/"
    },
    "id": "UubhLIEPK2Ai",
    "outputId": "ae4d6eac-a382-406a-b19e-d6f2a018525c"
   },
   "outputs": [
    {
     "name": "stdout",
     "output_type": "stream",
     "text": [
      "[1]\n"
     ]
    }
   ],
   "source": [
    "from sklearn.ensemble import RandomForestClassifier\n",
    "from sklearn.datasets import make_classification\n",
    "X, y = make_classification(n_samples=1000, n_features=4,\n",
    "                           n_informative=2, n_redundant=0,\n",
    "                           random_state=0, shuffle=False)\n",
    "\n",
    "clf = RandomForestClassifier(max_depth=2, random_state=0)\n",
    "clf.fit(X, y)\n",
    "\n",
    "print(clf.predict([[0, 0, 0, 0]]))"
   ]
  },
  {
   "cell_type": "markdown",
   "metadata": {
    "id": "0Zsn07tdLAAP"
   },
   "source": [
    "Laboratorio:\n",
    "\n",
    "1. Cargar load digitis\n",
    "```\n",
    "from sklearn.datasets import load_digits\n",
    "digits = load_digits()\n",
    "print(digits.data.shape)\n",
    "\n",
    "import matplotlib.pyplot as plt\n",
    "plt.gray()\n",
    "plt.matshow(digits.images[95])\n",
    "plt.show()\n",
    "```\n",
    "\n",
    "2, Aplicar random foreset usando sklearn"
   ]
  },
  {
   "cell_type": "code",
   "execution_count": null,
   "metadata": {
    "colab": {
     "base_uri": "https://localhost:8080/",
     "height": 310
    },
    "id": "LYyKiC_QGHry",
    "outputId": "33a237d4-85ac-4a92-bce3-eaa8e6c35765"
   },
   "outputs": [
    {
     "name": "stdout",
     "output_type": "stream",
     "text": [
      "(1797, 64)\n"
     ]
    },
    {
     "data": {
      "text/plain": [
       "<Figure size 432x288 with 0 Axes>"
      ]
     },
     "metadata": {},
     "output_type": "display_data"
    },
    {
     "data": {
      "image/png": "[encoded data removed]",
      "text/plain": [
       "<Figure size 288x288 with 1 Axes>"
      ]
     },
     "metadata": {
      "needs_background": "light"
     },
     "output_type": "display_data"
    }
   ],
   "source": [
    "from sklearn.datasets import load_digits\n",
    "digits = load_digits()\n",
    "print(digits.data.shape)\n",
    "\n",
    "import matplotlib.pyplot as plt\n",
    "plt.gray()\n",
    "plt.matshow(digits.images[95])\n",
    "plt.show()"
   ]
  },
  {
   "cell_type": "code",
   "execution_count": null,
   "metadata": {
    "id": "FgHHKGJVFu3L"
   },
   "outputs": [],
   "source": [
    "from sklearn.datasets import load_digits\n",
    "digits = load_digits()\n",
    "#https://en.wikipedia.org/wiki/MNIST_database"
   ]
  },
  {
   "cell_type": "code",
   "execution_count": null,
   "metadata": {
    "colab": {
     "base_uri": "https://localhost:8080/"
    },
    "id": "By5rPGCLFGog",
    "outputId": "5f39cba2-2d0c-4f5e-b572-a594c94776f2"
   },
   "outputs": [
    {
     "name": "stdout",
     "output_type": "stream",
     "text": [
      "[9 0 8 9 8]\n",
      "[9 0 8 9 8]\n"
     ]
    },
    {
     "data": {
      "text/plain": [
       "array([0.00000000e+00, 1.83905540e-03, 2.12313868e-02, 9.58529696e-03,\n",
       "       1.03064367e-02, 1.89152553e-02, 1.08501548e-02, 7.99571678e-04,\n",
       "       3.41648193e-05, 8.27657398e-03, 2.65756198e-02, 5.96307865e-03,\n",
       "       1.49939999e-02, 2.81255767e-02, 5.98545186e-03, 8.17449173e-04,\n",
       "       6.74086430e-05, 7.64583977e-03, 2.00597956e-02, 2.78438330e-02,\n",
       "       2.92776472e-02, 5.05400241e-02, 1.05557299e-02, 3.29628388e-04,\n",
       "       4.95995964e-05, 1.42463899e-02, 4.14634129e-02, 2.44306758e-02,\n",
       "       3.69125012e-02, 2.72763508e-02, 2.60659298e-02, 0.00000000e+00,\n",
       "       0.00000000e+00, 2.67050972e-02, 2.84543381e-02, 1.84820336e-02,\n",
       "       4.32024393e-02, 2.09043216e-02, 2.49742506e-02, 0.00000000e+00,\n",
       "       1.17445422e-04, 1.01263599e-02, 3.63778573e-02, 3.96988065e-02,\n",
       "       1.92530127e-02, 1.61834798e-02, 1.85000052e-02, 6.00669498e-05,\n",
       "       4.12426500e-06, 2.64106187e-03, 1.71760275e-02, 2.10256201e-02,\n",
       "       1.43195307e-02, 2.44814046e-02, 2.52888593e-02, 2.43633846e-03,\n",
       "       3.37563276e-05, 2.39332493e-03, 2.53816593e-02, 9.16611239e-03,\n",
       "       2.30225537e-02, 2.86798214e-02, 1.67875546e-02, 3.05889720e-03])"
      ]
     },
     "execution_count": 8,
     "metadata": {},
     "output_type": "execute_result"
    }
   ],
   "source": [
    "# Solution 1 GPT 3\n",
    "#write code in python  for clasifier use random forset with mnist dataset\n",
    "from sklearn.ensemble import RandomForestClassifier\n",
    "from sklearn.datasets import load_digits\n",
    "digits = load_digits()\n",
    "clf = RandomForestClassifier(n_estimators=100)\n",
    "clf.fit(digits.data, digits.target)\n",
    "\n",
    "#to test\n",
    "print(clf.predict(digits.data[-5:]))\n",
    "print(digits.target[-5:])\n",
    "\n",
    "#importance features\n",
    "clf.feature_importances_"
   ]
  },
  {
   "cell_type": "code",
   "execution_count": null,
   "metadata": {
    "colab": {
     "base_uri": "https://localhost:8080/",
     "height": 235
    },
    "id": "1igQ2x4VoGNI",
    "outputId": "68d3aca4-fd73-4ad7-e8ac-fea011a3812b"
   },
   "outputs": [
    {
     "ename": "TypeError",
     "evalue": "ignored",
     "output_type": "error",
     "traceback": [
      "\u001b[0;31m---------------------------------------------------------------------------\u001b[0m",
      "\u001b[0;31mTypeError\u001b[0m                                 Traceback (most recent call last)",
      "\u001b[0;32m<ipython-input-4-f946886f4ed2>\u001b[0m in \u001b[0;36m<module>\u001b[0;34m\u001b[0m\n\u001b[1;32m     15\u001b[0m \u001b[0;34m\u001b[0m\u001b[0m\n\u001b[1;32m     16\u001b[0m train_set, train_labels, test_set, test_labels = train_test_split( \n\u001b[0;32m---> 17\u001b[0;31m                  x, y, test_ratio=0.2, random_state=42)\n\u001b[0m\u001b[1;32m     18\u001b[0m \u001b[0;34m\u001b[0m\u001b[0m\n\u001b[1;32m     19\u001b[0m \u001b[0;34m\u001b[0m\u001b[0m\n",
      "\u001b[0;31mTypeError\u001b[0m: train_test_split() got an unexpected keyword argument 'random_state'"
     ]
    }
   ],
   "source": [
    "# #write code in python  for mnist dataset  using random forset\n",
    "# # GPT 3 Code\n",
    "# #Solution 2\n",
    "# import numpy as np\n",
    "# from sklearn.datasets import fetch_openml\n",
    "# mnist = fetch_openml('mnist_784')\n",
    "# x, y = mnist[\"data\"], mnist[\"target\"]\n",
    "# import numpy as np\n",
    "# from sklearn.datasets import fetch_openml\n",
    "# mnist = fetch_openml('mnist_784')\n",
    "# x, y = mnist[\"data\"], mnist[\"target\"]\n",
    "\n",
    "\n",
    "# def train_test_split(x, y, test_ratio):\n",
    "#     shuffled_indices = np.random.permutation(len(x))\n",
    "#     test_set_size = int(len(x) * test_ratio)\n",
    "#     test_indices = shuffled_indices[:test_set_size]\n",
    "#     train_indices = shuffled_indices[test_set_size:]\n",
    "#     return x[train_indices], y[train_indices], x[test_indices], y[test_indices]\n",
    "\n",
    "# train_set, train_labels, test_set, test_labels = train_test_split(x, y, test_ratio=0.2, random_state=42)\n",
    "\n",
    "\n",
    "\n",
    "# from sklearn.ensemble import RandomForestClassifier\n",
    "# forest_clf = RandomForestClassifier(random_state=42)\n",
    "# forest_clf.fit(train_set, train_labels)\n",
    "# forest_clf.predict([some_digit])\n",
    "# forest_clf.predict_proba([some_digit])\n",
    "\n",
    "# from sklearn.model_selection import cross_val_score\n",
    "# cross_val_score(forest_clf, train_set, train_labels, cv=3, scoring=\"accuracy\")\n",
    "\n",
    "\n",
    "# from sklearn.neighbors import KNeighborsClassifier\n",
    "# knn_clf = KNeighborsClassifier()\n",
    "# knn_clf.fit(train_set, train_labels)\n",
    "# knn_clf.predict([some_digit])\n",
    "# knn_clf.score(test_set, test_labels)\n",
    "\n",
    "# cross_val_score(knn_clf, train_set, train_labels, cv=3, scoring=\"accuracy\")\n",
    "\n",
    "\n",
    "# from sklearn.model_selection import GridSearchCV\n",
    "\n",
    "# param_grid = [\n",
    "#     {'n_estimators': [3, 10, 30], 'max_features': [2, 4, 6, 8]},\n",
    "#     {'bootstrap': [False], 'n_estimators': [3, 10], 'max_features': [2, 3, 4]},\n",
    "#  ]\n",
    "# forest_clf = RandomForestClassifier()\n",
    "# grid_search = GridSearchCV(forest_clf, param_grid, cv=5,\n",
    "#                            scoring='neg_mean_squared_error', return_train_score=True)\n",
    "# grid_search.fit(train_set, train_labels)\n",
    "\n",
    "\n",
    "# np.sqrt(-grid_search.best_score_)\n",
    "\n",
    "\n",
    "# grid_search.best_params_\n",
    "\n",
    "# feature_importances = grid_search.best_estimator_.feature_importances_\n",
    "# feature_importances\n",
    "# extra_attribs = [\"rooms_per_hold\", \"pop_per_hhold\", \"bedrooms_per_room\"]\n",
    "# cat_encoder = full_pipeline.named_transformers_[\"cat\"]\n",
    "# cat_one_hot_attribs = list(cat_encoder.categories[0])\n",
    "# attributes = num_attribs + extra_attribs + cat_one_hot_attribs\n",
    "# np.argsort(feature)\n",
    "# sorted(zip(feature_importances, attributes), reverse=True)"
   ]
  }
 ],
 "metadata": {
  "colab": {
   "provenance": []
  },
  "kernelspec": {
   "display_name": "Python 3 (ipykernel)",
   "language": "python",
   "name": "python3"
  },
  "language_info": {
   "codemirror_mode": {
    "name": "ipython",
    "version": 3
   },
   "file_extension": ".py",
   "mimetype": "text/x-python",
   "name": "python",
   "nbconvert_exporter": "python",
   "pygments_lexer": "ipython3",
   "version": "3.10.9"
  }
 },
 "nbformat": 4,
 "nbformat_minor": 1
}
